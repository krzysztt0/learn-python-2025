{
 "cells": [
  {
   "cell_type": "markdown",
   "metadata": {},
   "source": [
    "**Very first step: import the modules and packages used in this notebook**"
   ]
  },
  {
   "cell_type": "code",
   "execution_count": 16,
   "metadata": {},
   "outputs": [],
   "source": [
    "# import pandas under the alias \"pd\"\n",
    "import pandas as pd\n",
    "import csv \n",
    "import json\n"
   ]
  },
  {
   "cell_type": "markdown",
   "metadata": {},
   "source": [
    "# Python Crash Course - Exercise 07\n",
    "\n",
    "Topics covered:\n",
    "* list comprehensions\n",
    "* pandas\n",
    "\n",
    "Tasks:\n",
    "* Task 1: List Comprehension\n",
    "* Task 2: Crude Oil Exports (with pandas)\n",
    "* Task 3: Greatest Hits (with pandas)"
   ]
  },
  {
   "cell_type": "markdown",
   "metadata": {},
   "source": [
    "## Task 1 - List comprehension\n",
    "\n",
    "Use list comprehension to create the following lists:\n",
    "\n",
    "* A list of all numbers in the `range(10,21)`\n",
    "* A list of all numbers divisible by 4 in the `range(30,60)`\n",
    "* A list of all even numbers from 91 to 98 (both included)\n",
    "* A list of all consonants in the string `\"Better safe than sorry\"` (don't include white spaces)\n",
    "\n",
    "Each of these lists could also be created by a for-loop. If you have time, try to recreate each of these lists using a for-loop! "
   ]
  },
  {
   "cell_type": "code",
   "execution_count": 2,
   "metadata": {},
   "outputs": [
    {
     "data": {
      "text/plain": [
       "[10, 11, 12, 13, 14, 15, 16, 17, 18, 19, 20, 21]"
      ]
     },
     "execution_count": 2,
     "metadata": {},
     "output_type": "execute_result"
    }
   ],
   "source": [
    "# A list of all numbers in the `range(10,21)`\n",
    "\n",
    "[i for i in range(10, 22)]"
   ]
  },
  {
   "cell_type": "code",
   "execution_count": 3,
   "metadata": {},
   "outputs": [
    {
     "data": {
      "text/plain": [
       "[32, 36, 40, 44, 48, 52, 56, 60]"
      ]
     },
     "execution_count": 3,
     "metadata": {},
     "output_type": "execute_result"
    }
   ],
   "source": [
    "# A list of all numbers divisible by 4 in the `range(30,60)`\n",
    "[i for i in range(30, 61) if i % 4 == 0]"
   ]
  },
  {
   "cell_type": "code",
   "execution_count": 4,
   "metadata": {},
   "outputs": [
    {
     "data": {
      "text/plain": [
       "[92, 94, 96, 98]"
      ]
     },
     "execution_count": 4,
     "metadata": {},
     "output_type": "execute_result"
    }
   ],
   "source": [
    "# A list of all even numbers from 91 to 98 (both included)\n",
    "[i for i in range(91, 99) if i % 2 == 0]"
   ]
  },
  {
   "cell_type": "code",
   "execution_count": null,
   "metadata": {},
   "outputs": [],
   "source": [
    "# A list of all consonants in the string \n",
    "# `\"Better safe than sorry\"` (don't include white spaces)"
   ]
  },
  {
   "cell_type": "markdown",
   "metadata": {},
   "source": [
    "# Task 2: Crude Oil Exports\n",
    "\n",
    "Together with this notebook, you are provided the file `.data/oil.csv`, with data provided by [UNdata](http://data.un.org/Explorer.aspx?d=EDATA&f=cmID%3aCR). It contains data on crude oil exports across all countries. For each of the subtasks below, you will find instructions in the code cells. Each of the code cell instructions can be solved by **1-2 lines of code**!\n",
    "\n",
    "* Task 2a: Read in & explore the data\n",
    "* Task 2b: Clean the data\n",
    "* Task 2c: Access parts of the data\n",
    "* Task 2d: Zoom in on a subset & explore the data\n",
    "* Task 2e: Write your manipulated data set to a file"
   ]
  },
  {
   "cell_type": "markdown",
   "metadata": {},
   "source": [
    "## Task 2a: Read in and explore the data"
   ]
  },
  {
   "cell_type": "code",
   "execution_count": 20,
   "metadata": {},
   "outputs": [
    {
     "data": {
      "application/vnd.microsoft.datawrangler.viewer.v0+json": {
       "columns": [
        {
         "name": "index",
         "rawType": "int64",
         "type": "integer"
        },
        {
         "name": "Country or Area",
         "rawType": "object",
         "type": "string"
        },
        {
         "name": "Commodity - Transaction",
         "rawType": "object",
         "type": "string"
        },
        {
         "name": "Year",
         "rawType": "float64",
         "type": "float"
        },
        {
         "name": "Unit",
         "rawType": "object",
         "type": "unknown"
        },
        {
         "name": "Quantity",
         "rawType": "float64",
         "type": "float"
        },
        {
         "name": "Quantity Footnotes",
         "rawType": "float64",
         "type": "float"
        }
       ],
       "ref": "2c20e2e3-af5e-438a-9a05-4aef83172c57",
       "rows": [
        [
         "0",
         "Albania",
         "Conventional crude oil - exports",
         "2021.0",
         "Metric tons,  thousand",
         "547.8",
         null
        ],
        [
         "1",
         "Albania",
         "Conventional crude oil - exports",
         "2020.0",
         "Metric tons,  thousand",
         "577.32",
         null
        ],
        [
         "2",
         "Albania",
         "Conventional crude oil - exports",
         "2019.0",
         "Metric tons,  thousand",
         "631.216",
         null
        ],
        [
         "3",
         "Albania",
         "Conventional crude oil - exports",
         "2018.0",
         "Metric tons,  thousand",
         "582.789",
         null
        ],
        [
         "4",
         "Albania",
         "Conventional crude oil - exports",
         "2017.0",
         "Metric tons,  thousand",
         "488.0",
         null
        ],
        [
         "5",
         "Albania",
         "Conventional crude oil - exports",
         "2016.0",
         "Metric tons,  thousand",
         "888.0",
         null
        ],
        [
         "6",
         "Albania",
         "Conventional crude oil - exports",
         "2015.0",
         "Metric tons,  thousand",
         "987.0",
         null
        ],
        [
         "7",
         "Albania",
         "Conventional crude oil - exports",
         "2014.0",
         "Metric tons,  thousand",
         "1007.22",
         null
        ],
        [
         "8",
         "Albania",
         "Conventional crude oil - exports",
         "2013.0",
         "Metric tons,  thousand",
         "1167.0",
         null
        ],
        [
         "9",
         "Albania",
         "Conventional crude oil - exports",
         "2012.0",
         "Metric tons,  thousand",
         "920.07",
         null
        ],
        [
         "10",
         "Albania",
         "Conventional crude oil - exports",
         "2011.0",
         "Metric tons,  thousand",
         "597.81",
         null
        ],
        [
         "11",
         "Albania",
         "Conventional crude oil - exports",
         "2010.0",
         "Metric tons,  thousand",
         "586.47",
         null
        ],
        [
         "12",
         "Albania",
         "Conventional crude oil - exports",
         "2009.0",
         "Metric tons,  thousand",
         "221.23",
         null
        ],
        [
         "13",
         "Albania",
         "Conventional crude oil - exports",
         "2008.0",
         "Metric tons,  thousand",
         "240.2",
         null
        ],
        [
         "14",
         "Albania",
         "Conventional crude oil - exports",
         "2007.0",
         "Metric tons,  thousand",
         "244.0",
         null
        ],
        [
         "15",
         "Albania",
         "Conventional crude oil - exports",
         "2006.0",
         "Metric tons,  thousand",
         "63.0",
         null
        ],
        [
         "16",
         "Albania",
         "Conventional crude oil - exports",
         "2005.0",
         "Metric tons,  thousand",
         "0.0",
         null
        ],
        [
         "17",
         "Albania",
         "Conventional crude oil - exports",
         "2004.0",
         "Metric tons,  thousand",
         "0.0",
         null
        ],
        [
         "18",
         "Algeria",
         "Conventional crude oil - exports",
         "2020.0",
         "Metric tons,  thousand",
         "16735.718",
         null
        ],
        [
         "19",
         "Algeria",
         "Conventional crude oil - exports",
         "2019.0",
         "Metric tons,  thousand",
         "22181.0",
         null
        ],
        [
         "20",
         "Algeria",
         "Conventional crude oil - exports",
         "2018.0",
         "Metric tons,  thousand",
         "21676.0",
         null
        ],
        [
         "21",
         "Algeria",
         "Conventional crude oil - exports",
         "2017.0",
         "Metric tons,  thousand",
         "24677.0",
         null
        ],
        [
         "22",
         "Algeria",
         "Conventional crude oil - exports",
         "2016.0",
         "Metric tons,  thousand",
         "25227.0",
         null
        ],
        [
         "23",
         "Algeria",
         "Conventional crude oil - exports",
         "2015.0",
         "Metric tons,  thousand",
         "24181.0",
         null
        ],
        [
         "24",
         "Algeria",
         "Conventional crude oil - exports",
         "2014.0",
         "Metric tons,  thousand",
         "23550.0",
         null
        ],
        [
         "25",
         "Algeria",
         "Conventional crude oil - exports",
         "2013.0",
         "Metric tons,  thousand",
         "28130.0",
         null
        ],
        [
         "26",
         "Algeria",
         "Conventional crude oil - exports",
         "2012.0",
         "Metric tons,  thousand",
         "31881.0",
         null
        ],
        [
         "27",
         "Algeria",
         "Conventional crude oil - exports",
         "2011.0",
         "Metric tons,  thousand",
         "32424.0",
         null
        ],
        [
         "28",
         "Algeria",
         "Conventional crude oil - exports",
         "2010.0",
         "Metric tons,  thousand",
         "32974.0",
         null
        ],
        [
         "29",
         "Algeria",
         "Conventional crude oil - exports",
         "2009.0",
         "Metric tons,  thousand",
         "34731.0",
         null
        ],
        [
         "30",
         "Algeria",
         "Conventional crude oil - exports",
         "2008.0",
         "Metric tons,  thousand",
         "39179.0",
         null
        ],
        [
         "31",
         "Algeria",
         "Conventional crude oil - exports",
         "2007.0",
         "Metric tons,  thousand",
         "43248.0",
         null
        ],
        [
         "32",
         "Algeria",
         "Conventional crude oil - exports",
         "2006.0",
         "Metric tons,  thousand",
         "43954.0",
         null
        ],
        [
         "33",
         "Algeria",
         "Conventional crude oil - exports",
         "2005.0",
         "Metric tons,  thousand",
         "44940.0",
         null
        ],
        [
         "34",
         "Algeria",
         "Conventional crude oil - exports",
         "2004.0",
         "Metric tons,  thousand",
         "41280.0",
         null
        ],
        [
         "35",
         "Algeria",
         "Conventional crude oil - exports",
         "2003.0",
         "Metric tons,  thousand",
         "33725.0",
         null
        ],
        [
         "36",
         "Algeria",
         "Conventional crude oil - exports",
         "2002.0",
         "Metric tons,  thousand",
         "25420.0",
         null
        ],
        [
         "37",
         "Algeria",
         "Conventional crude oil - exports",
         "2001.0",
         "Metric tons,  thousand",
         "19583.0",
         null
        ],
        [
         "38",
         "Algeria",
         "Conventional crude oil - exports",
         "2000.0",
         "Metric tons,  thousand",
         "21412.0",
         null
        ],
        [
         "39",
         "Algeria",
         "Conventional crude oil - exports",
         "1999.0",
         "Metric tons,  thousand",
         "19289.0",
         null
        ],
        [
         "40",
         "Algeria",
         "Conventional crude oil - exports",
         "1998.0",
         "Metric tons,  thousand",
         "19294.0",
         null
        ],
        [
         "41",
         "Algeria",
         "Conventional crude oil - exports",
         "1997.0",
         "Metric tons,  thousand",
         "17280.0",
         null
        ],
        [
         "42",
         "Algeria",
         "Conventional crude oil - exports",
         "1996.0",
         "Metric tons,  thousand",
         "18171.0",
         null
        ],
        [
         "43",
         "Algeria",
         "Conventional crude oil - exports",
         "1995.0",
         "Metric tons,  thousand",
         "15417.0",
         null
        ],
        [
         "44",
         "Algeria",
         "Conventional crude oil - exports",
         "1994.0",
         "Metric tons,  thousand",
         "15469.0",
         null
        ],
        [
         "45",
         "Algeria",
         "Conventional crude oil - exports",
         "1993.0",
         "Metric tons,  thousand",
         "14289.0",
         null
        ],
        [
         "46",
         "Algeria",
         "Conventional crude oil - exports",
         "1992.0",
         "Metric tons,  thousand",
         "15634.0",
         null
        ],
        [
         "47",
         "Algeria",
         "Conventional crude oil - exports",
         "1991.0",
         "Metric tons,  thousand",
         "16182.0",
         null
        ],
        [
         "48",
         "Algeria",
         "Conventional crude oil - exports",
         "1990.0",
         "Metric tons,  thousand",
         "14007.0",
         "1.0"
        ],
        [
         "49",
         "Angola",
         "Conventional crude oil - exports",
         "2021.0",
         "Metric tons,  thousand",
         "52305.8561",
         null
        ]
       ],
       "shape": {
        "columns": 6,
        "rows": 2375
       }
      },
      "text/html": [
       "<div>\n",
       "<style scoped>\n",
       "    .dataframe tbody tr th:only-of-type {\n",
       "        vertical-align: middle;\n",
       "    }\n",
       "\n",
       "    .dataframe tbody tr th {\n",
       "        vertical-align: top;\n",
       "    }\n",
       "\n",
       "    .dataframe thead th {\n",
       "        text-align: right;\n",
       "    }\n",
       "</style>\n",
       "<table border=\"1\" class=\"dataframe\">\n",
       "  <thead>\n",
       "    <tr style=\"text-align: right;\">\n",
       "      <th></th>\n",
       "      <th>Country or Area</th>\n",
       "      <th>Commodity - Transaction</th>\n",
       "      <th>Year</th>\n",
       "      <th>Unit</th>\n",
       "      <th>Quantity</th>\n",
       "      <th>Quantity Footnotes</th>\n",
       "    </tr>\n",
       "  </thead>\n",
       "  <tbody>\n",
       "    <tr>\n",
       "      <th>0</th>\n",
       "      <td>Albania</td>\n",
       "      <td>Conventional crude oil - exports</td>\n",
       "      <td>2021.0</td>\n",
       "      <td>Metric tons,  thousand</td>\n",
       "      <td>547.800</td>\n",
       "      <td>NaN</td>\n",
       "    </tr>\n",
       "    <tr>\n",
       "      <th>1</th>\n",
       "      <td>Albania</td>\n",
       "      <td>Conventional crude oil - exports</td>\n",
       "      <td>2020.0</td>\n",
       "      <td>Metric tons,  thousand</td>\n",
       "      <td>577.320</td>\n",
       "      <td>NaN</td>\n",
       "    </tr>\n",
       "    <tr>\n",
       "      <th>2</th>\n",
       "      <td>Albania</td>\n",
       "      <td>Conventional crude oil - exports</td>\n",
       "      <td>2019.0</td>\n",
       "      <td>Metric tons,  thousand</td>\n",
       "      <td>631.216</td>\n",
       "      <td>NaN</td>\n",
       "    </tr>\n",
       "    <tr>\n",
       "      <th>3</th>\n",
       "      <td>Albania</td>\n",
       "      <td>Conventional crude oil - exports</td>\n",
       "      <td>2018.0</td>\n",
       "      <td>Metric tons,  thousand</td>\n",
       "      <td>582.789</td>\n",
       "      <td>NaN</td>\n",
       "    </tr>\n",
       "    <tr>\n",
       "      <th>4</th>\n",
       "      <td>Albania</td>\n",
       "      <td>Conventional crude oil - exports</td>\n",
       "      <td>2017.0</td>\n",
       "      <td>Metric tons,  thousand</td>\n",
       "      <td>488.000</td>\n",
       "      <td>NaN</td>\n",
       "    </tr>\n",
       "    <tr>\n",
       "      <th>...</th>\n",
       "      <td>...</td>\n",
       "      <td>...</td>\n",
       "      <td>...</td>\n",
       "      <td>...</td>\n",
       "      <td>...</td>\n",
       "      <td>...</td>\n",
       "    </tr>\n",
       "    <tr>\n",
       "      <th>2370</th>\n",
       "      <td>Yemen Arab Rep. (former)</td>\n",
       "      <td>Conventional crude oil - exports</td>\n",
       "      <td>1990.0</td>\n",
       "      <td>Metric tons,  thousand</td>\n",
       "      <td>8058.000</td>\n",
       "      <td>1.0</td>\n",
       "    </tr>\n",
       "    <tr>\n",
       "      <th>2371</th>\n",
       "      <td>Yugoslavia, SFR (former)</td>\n",
       "      <td>Conventional crude oil - exports</td>\n",
       "      <td>1991.0</td>\n",
       "      <td>Metric tons,  thousand</td>\n",
       "      <td>0.000</td>\n",
       "      <td>NaN</td>\n",
       "    </tr>\n",
       "    <tr>\n",
       "      <th>2372</th>\n",
       "      <td>Yugoslavia, SFR (former)</td>\n",
       "      <td>Conventional crude oil - exports</td>\n",
       "      <td>1990.0</td>\n",
       "      <td>Metric tons,  thousand</td>\n",
       "      <td>0.000</td>\n",
       "      <td>NaN</td>\n",
       "    </tr>\n",
       "    <tr>\n",
       "      <th>2373</th>\n",
       "      <td>fnSeqID</td>\n",
       "      <td>Footnote</td>\n",
       "      <td>NaN</td>\n",
       "      <td>NaN</td>\n",
       "      <td>NaN</td>\n",
       "      <td>NaN</td>\n",
       "    </tr>\n",
       "    <tr>\n",
       "      <th>2374</th>\n",
       "      <td>1</td>\n",
       "      <td>Estimate</td>\n",
       "      <td>NaN</td>\n",
       "      <td>NaN</td>\n",
       "      <td>NaN</td>\n",
       "      <td>NaN</td>\n",
       "    </tr>\n",
       "  </tbody>\n",
       "</table>\n",
       "<p>2375 rows × 6 columns</p>\n",
       "</div>"
      ],
      "text/plain": [
       "               Country or Area           Commodity - Transaction    Year  \\\n",
       "0                      Albania  Conventional crude oil - exports  2021.0   \n",
       "1                      Albania  Conventional crude oil - exports  2020.0   \n",
       "2                      Albania  Conventional crude oil - exports  2019.0   \n",
       "3                      Albania  Conventional crude oil - exports  2018.0   \n",
       "4                      Albania  Conventional crude oil - exports  2017.0   \n",
       "...                        ...                               ...     ...   \n",
       "2370  Yemen Arab Rep. (former)  Conventional crude oil - exports  1990.0   \n",
       "2371  Yugoslavia, SFR (former)  Conventional crude oil - exports  1991.0   \n",
       "2372  Yugoslavia, SFR (former)  Conventional crude oil - exports  1990.0   \n",
       "2373                   fnSeqID                          Footnote     NaN   \n",
       "2374                         1                          Estimate     NaN   \n",
       "\n",
       "                        Unit  Quantity  Quantity Footnotes  \n",
       "0     Metric tons,  thousand   547.800                 NaN  \n",
       "1     Metric tons,  thousand   577.320                 NaN  \n",
       "2     Metric tons,  thousand   631.216                 NaN  \n",
       "3     Metric tons,  thousand   582.789                 NaN  \n",
       "4     Metric tons,  thousand   488.000                 NaN  \n",
       "...                      ...       ...                 ...  \n",
       "2370  Metric tons,  thousand  8058.000                 1.0  \n",
       "2371  Metric tons,  thousand     0.000                 NaN  \n",
       "2372  Metric tons,  thousand     0.000                 NaN  \n",
       "2373                     NaN       NaN                 NaN  \n",
       "2374                     NaN       NaN                 NaN  \n",
       "\n",
       "[2375 rows x 6 columns]"
      ]
     },
     "execution_count": 20,
     "metadata": {},
     "output_type": "execute_result"
    }
   ],
   "source": [
    "# read in with pandas\n",
    "df = pd.read_csv(\"data/oil/oil.csv\")\n",
    "df\n"
   ]
  },
  {
   "cell_type": "code",
   "execution_count": 22,
   "metadata": {},
   "outputs": [
    {
     "data": {
      "application/vnd.microsoft.datawrangler.viewer.v0+json": {
       "columns": [
        {
         "name": "index",
         "rawType": "int64",
         "type": "integer"
        },
        {
         "name": "Country or Area",
         "rawType": "object",
         "type": "string"
        },
        {
         "name": "Commodity - Transaction",
         "rawType": "object",
         "type": "string"
        },
        {
         "name": "Year",
         "rawType": "float64",
         "type": "float"
        },
        {
         "name": "Unit",
         "rawType": "object",
         "type": "string"
        },
        {
         "name": "Quantity",
         "rawType": "float64",
         "type": "float"
        },
        {
         "name": "Quantity Footnotes",
         "rawType": "float64",
         "type": "float"
        }
       ],
       "ref": "1ce6df34-7048-4f00-a55b-d1835e3b7e81",
       "rows": [
        [
         "0",
         "Albania",
         "Conventional crude oil - exports",
         "2021.0",
         "Metric tons,  thousand",
         "547.8",
         null
        ],
        [
         "1",
         "Albania",
         "Conventional crude oil - exports",
         "2020.0",
         "Metric tons,  thousand",
         "577.32",
         null
        ],
        [
         "2",
         "Albania",
         "Conventional crude oil - exports",
         "2019.0",
         "Metric tons,  thousand",
         "631.216",
         null
        ],
        [
         "3",
         "Albania",
         "Conventional crude oil - exports",
         "2018.0",
         "Metric tons,  thousand",
         "582.789",
         null
        ],
        [
         "4",
         "Albania",
         "Conventional crude oil - exports",
         "2017.0",
         "Metric tons,  thousand",
         "488.0",
         null
        ],
        [
         "5",
         "Albania",
         "Conventional crude oil - exports",
         "2016.0",
         "Metric tons,  thousand",
         "888.0",
         null
        ],
        [
         "6",
         "Albania",
         "Conventional crude oil - exports",
         "2015.0",
         "Metric tons,  thousand",
         "987.0",
         null
        ],
        [
         "7",
         "Albania",
         "Conventional crude oil - exports",
         "2014.0",
         "Metric tons,  thousand",
         "1007.22",
         null
        ],
        [
         "8",
         "Albania",
         "Conventional crude oil - exports",
         "2013.0",
         "Metric tons,  thousand",
         "1167.0",
         null
        ],
        [
         "9",
         "Albania",
         "Conventional crude oil - exports",
         "2012.0",
         "Metric tons,  thousand",
         "920.07",
         null
        ],
        [
         "10",
         "Albania",
         "Conventional crude oil - exports",
         "2011.0",
         "Metric tons,  thousand",
         "597.81",
         null
        ]
       ],
       "shape": {
        "columns": 6,
        "rows": 11
       }
      },
      "text/html": [
       "<div>\n",
       "<style scoped>\n",
       "    .dataframe tbody tr th:only-of-type {\n",
       "        vertical-align: middle;\n",
       "    }\n",
       "\n",
       "    .dataframe tbody tr th {\n",
       "        vertical-align: top;\n",
       "    }\n",
       "\n",
       "    .dataframe thead th {\n",
       "        text-align: right;\n",
       "    }\n",
       "</style>\n",
       "<table border=\"1\" class=\"dataframe\">\n",
       "  <thead>\n",
       "    <tr style=\"text-align: right;\">\n",
       "      <th></th>\n",
       "      <th>Country or Area</th>\n",
       "      <th>Commodity - Transaction</th>\n",
       "      <th>Year</th>\n",
       "      <th>Unit</th>\n",
       "      <th>Quantity</th>\n",
       "      <th>Quantity Footnotes</th>\n",
       "    </tr>\n",
       "  </thead>\n",
       "  <tbody>\n",
       "    <tr>\n",
       "      <th>0</th>\n",
       "      <td>Albania</td>\n",
       "      <td>Conventional crude oil - exports</td>\n",
       "      <td>2021.0</td>\n",
       "      <td>Metric tons,  thousand</td>\n",
       "      <td>547.800</td>\n",
       "      <td>NaN</td>\n",
       "    </tr>\n",
       "    <tr>\n",
       "      <th>1</th>\n",
       "      <td>Albania</td>\n",
       "      <td>Conventional crude oil - exports</td>\n",
       "      <td>2020.0</td>\n",
       "      <td>Metric tons,  thousand</td>\n",
       "      <td>577.320</td>\n",
       "      <td>NaN</td>\n",
       "    </tr>\n",
       "    <tr>\n",
       "      <th>2</th>\n",
       "      <td>Albania</td>\n",
       "      <td>Conventional crude oil - exports</td>\n",
       "      <td>2019.0</td>\n",
       "      <td>Metric tons,  thousand</td>\n",
       "      <td>631.216</td>\n",
       "      <td>NaN</td>\n",
       "    </tr>\n",
       "    <tr>\n",
       "      <th>3</th>\n",
       "      <td>Albania</td>\n",
       "      <td>Conventional crude oil - exports</td>\n",
       "      <td>2018.0</td>\n",
       "      <td>Metric tons,  thousand</td>\n",
       "      <td>582.789</td>\n",
       "      <td>NaN</td>\n",
       "    </tr>\n",
       "    <tr>\n",
       "      <th>4</th>\n",
       "      <td>Albania</td>\n",
       "      <td>Conventional crude oil - exports</td>\n",
       "      <td>2017.0</td>\n",
       "      <td>Metric tons,  thousand</td>\n",
       "      <td>488.000</td>\n",
       "      <td>NaN</td>\n",
       "    </tr>\n",
       "    <tr>\n",
       "      <th>5</th>\n",
       "      <td>Albania</td>\n",
       "      <td>Conventional crude oil - exports</td>\n",
       "      <td>2016.0</td>\n",
       "      <td>Metric tons,  thousand</td>\n",
       "      <td>888.000</td>\n",
       "      <td>NaN</td>\n",
       "    </tr>\n",
       "    <tr>\n",
       "      <th>6</th>\n",
       "      <td>Albania</td>\n",
       "      <td>Conventional crude oil - exports</td>\n",
       "      <td>2015.0</td>\n",
       "      <td>Metric tons,  thousand</td>\n",
       "      <td>987.000</td>\n",
       "      <td>NaN</td>\n",
       "    </tr>\n",
       "    <tr>\n",
       "      <th>7</th>\n",
       "      <td>Albania</td>\n",
       "      <td>Conventional crude oil - exports</td>\n",
       "      <td>2014.0</td>\n",
       "      <td>Metric tons,  thousand</td>\n",
       "      <td>1007.220</td>\n",
       "      <td>NaN</td>\n",
       "    </tr>\n",
       "    <tr>\n",
       "      <th>8</th>\n",
       "      <td>Albania</td>\n",
       "      <td>Conventional crude oil - exports</td>\n",
       "      <td>2013.0</td>\n",
       "      <td>Metric tons,  thousand</td>\n",
       "      <td>1167.000</td>\n",
       "      <td>NaN</td>\n",
       "    </tr>\n",
       "    <tr>\n",
       "      <th>9</th>\n",
       "      <td>Albania</td>\n",
       "      <td>Conventional crude oil - exports</td>\n",
       "      <td>2012.0</td>\n",
       "      <td>Metric tons,  thousand</td>\n",
       "      <td>920.070</td>\n",
       "      <td>NaN</td>\n",
       "    </tr>\n",
       "    <tr>\n",
       "      <th>10</th>\n",
       "      <td>Albania</td>\n",
       "      <td>Conventional crude oil - exports</td>\n",
       "      <td>2011.0</td>\n",
       "      <td>Metric tons,  thousand</td>\n",
       "      <td>597.810</td>\n",
       "      <td>NaN</td>\n",
       "    </tr>\n",
       "  </tbody>\n",
       "</table>\n",
       "</div>"
      ],
      "text/plain": [
       "   Country or Area           Commodity - Transaction    Year  \\\n",
       "0          Albania  Conventional crude oil - exports  2021.0   \n",
       "1          Albania  Conventional crude oil - exports  2020.0   \n",
       "2          Albania  Conventional crude oil - exports  2019.0   \n",
       "3          Albania  Conventional crude oil - exports  2018.0   \n",
       "4          Albania  Conventional crude oil - exports  2017.0   \n",
       "5          Albania  Conventional crude oil - exports  2016.0   \n",
       "6          Albania  Conventional crude oil - exports  2015.0   \n",
       "7          Albania  Conventional crude oil - exports  2014.0   \n",
       "8          Albania  Conventional crude oil - exports  2013.0   \n",
       "9          Albania  Conventional crude oil - exports  2012.0   \n",
       "10         Albania  Conventional crude oil - exports  2011.0   \n",
       "\n",
       "                      Unit  Quantity  Quantity Footnotes  \n",
       "0   Metric tons,  thousand   547.800                 NaN  \n",
       "1   Metric tons,  thousand   577.320                 NaN  \n",
       "2   Metric tons,  thousand   631.216                 NaN  \n",
       "3   Metric tons,  thousand   582.789                 NaN  \n",
       "4   Metric tons,  thousand   488.000                 NaN  \n",
       "5   Metric tons,  thousand   888.000                 NaN  \n",
       "6   Metric tons,  thousand   987.000                 NaN  \n",
       "7   Metric tons,  thousand  1007.220                 NaN  \n",
       "8   Metric tons,  thousand  1167.000                 NaN  \n",
       "9   Metric tons,  thousand   920.070                 NaN  \n",
       "10  Metric tons,  thousand   597.810                 NaN  "
      ]
     },
     "execution_count": 22,
     "metadata": {},
     "output_type": "execute_result"
    }
   ],
   "source": [
    "# display the first 10 rows\n",
    "df.head(11)"
   ]
  },
  {
   "cell_type": "code",
   "execution_count": 23,
   "metadata": {},
   "outputs": [
    {
     "data": {
      "application/vnd.microsoft.datawrangler.viewer.v0+json": {
       "columns": [
        {
         "name": "index",
         "rawType": "int64",
         "type": "integer"
        },
        {
         "name": "Country or Area",
         "rawType": "object",
         "type": "string"
        },
        {
         "name": "Commodity - Transaction",
         "rawType": "object",
         "type": "string"
        },
        {
         "name": "Year",
         "rawType": "float64",
         "type": "float"
        },
        {
         "name": "Unit",
         "rawType": "object",
         "type": "unknown"
        },
        {
         "name": "Quantity",
         "rawType": "float64",
         "type": "float"
        },
        {
         "name": "Quantity Footnotes",
         "rawType": "float64",
         "type": "float"
        }
       ],
       "ref": "cba0bb27-3e53-4312-b2d2-5ecc8a5021d9",
       "rows": [
        [
         "2366",
         "Yemen",
         "Conventional crude oil - exports",
         "1994.0",
         "Metric tons,  thousand",
         "13255.0",
         null
        ],
        [
         "2367",
         "Yemen",
         "Conventional crude oil - exports",
         "1993.0",
         "Metric tons,  thousand",
         "8327.0",
         null
        ],
        [
         "2368",
         "Yemen",
         "Conventional crude oil - exports",
         "1992.0",
         "Metric tons,  thousand",
         "6153.0",
         null
        ],
        [
         "2369",
         "Yemen",
         "Conventional crude oil - exports",
         "1991.0",
         "Metric tons,  thousand",
         "7028.0",
         null
        ],
        [
         "2370",
         "Yemen Arab Rep. (former)",
         "Conventional crude oil - exports",
         "1990.0",
         "Metric tons,  thousand",
         "8058.0",
         "1.0"
        ],
        [
         "2371",
         "Yugoslavia, SFR (former)",
         "Conventional crude oil - exports",
         "1991.0",
         "Metric tons,  thousand",
         "0.0",
         null
        ],
        [
         "2372",
         "Yugoslavia, SFR (former)",
         "Conventional crude oil - exports",
         "1990.0",
         "Metric tons,  thousand",
         "0.0",
         null
        ],
        [
         "2373",
         "fnSeqID",
         "Footnote",
         null,
         null,
         null,
         null
        ],
        [
         "2374",
         "1",
         "Estimate",
         null,
         null,
         null,
         null
        ]
       ],
       "shape": {
        "columns": 6,
        "rows": 9
       }
      },
      "text/html": [
       "<div>\n",
       "<style scoped>\n",
       "    .dataframe tbody tr th:only-of-type {\n",
       "        vertical-align: middle;\n",
       "    }\n",
       "\n",
       "    .dataframe tbody tr th {\n",
       "        vertical-align: top;\n",
       "    }\n",
       "\n",
       "    .dataframe thead th {\n",
       "        text-align: right;\n",
       "    }\n",
       "</style>\n",
       "<table border=\"1\" class=\"dataframe\">\n",
       "  <thead>\n",
       "    <tr style=\"text-align: right;\">\n",
       "      <th></th>\n",
       "      <th>Country or Area</th>\n",
       "      <th>Commodity - Transaction</th>\n",
       "      <th>Year</th>\n",
       "      <th>Unit</th>\n",
       "      <th>Quantity</th>\n",
       "      <th>Quantity Footnotes</th>\n",
       "    </tr>\n",
       "  </thead>\n",
       "  <tbody>\n",
       "    <tr>\n",
       "      <th>2366</th>\n",
       "      <td>Yemen</td>\n",
       "      <td>Conventional crude oil - exports</td>\n",
       "      <td>1994.0</td>\n",
       "      <td>Metric tons,  thousand</td>\n",
       "      <td>13255.0</td>\n",
       "      <td>NaN</td>\n",
       "    </tr>\n",
       "    <tr>\n",
       "      <th>2367</th>\n",
       "      <td>Yemen</td>\n",
       "      <td>Conventional crude oil - exports</td>\n",
       "      <td>1993.0</td>\n",
       "      <td>Metric tons,  thousand</td>\n",
       "      <td>8327.0</td>\n",
       "      <td>NaN</td>\n",
       "    </tr>\n",
       "    <tr>\n",
       "      <th>2368</th>\n",
       "      <td>Yemen</td>\n",
       "      <td>Conventional crude oil - exports</td>\n",
       "      <td>1992.0</td>\n",
       "      <td>Metric tons,  thousand</td>\n",
       "      <td>6153.0</td>\n",
       "      <td>NaN</td>\n",
       "    </tr>\n",
       "    <tr>\n",
       "      <th>2369</th>\n",
       "      <td>Yemen</td>\n",
       "      <td>Conventional crude oil - exports</td>\n",
       "      <td>1991.0</td>\n",
       "      <td>Metric tons,  thousand</td>\n",
       "      <td>7028.0</td>\n",
       "      <td>NaN</td>\n",
       "    </tr>\n",
       "    <tr>\n",
       "      <th>2370</th>\n",
       "      <td>Yemen Arab Rep. (former)</td>\n",
       "      <td>Conventional crude oil - exports</td>\n",
       "      <td>1990.0</td>\n",
       "      <td>Metric tons,  thousand</td>\n",
       "      <td>8058.0</td>\n",
       "      <td>1.0</td>\n",
       "    </tr>\n",
       "    <tr>\n",
       "      <th>2371</th>\n",
       "      <td>Yugoslavia, SFR (former)</td>\n",
       "      <td>Conventional crude oil - exports</td>\n",
       "      <td>1991.0</td>\n",
       "      <td>Metric tons,  thousand</td>\n",
       "      <td>0.0</td>\n",
       "      <td>NaN</td>\n",
       "    </tr>\n",
       "    <tr>\n",
       "      <th>2372</th>\n",
       "      <td>Yugoslavia, SFR (former)</td>\n",
       "      <td>Conventional crude oil - exports</td>\n",
       "      <td>1990.0</td>\n",
       "      <td>Metric tons,  thousand</td>\n",
       "      <td>0.0</td>\n",
       "      <td>NaN</td>\n",
       "    </tr>\n",
       "    <tr>\n",
       "      <th>2373</th>\n",
       "      <td>fnSeqID</td>\n",
       "      <td>Footnote</td>\n",
       "      <td>NaN</td>\n",
       "      <td>NaN</td>\n",
       "      <td>NaN</td>\n",
       "      <td>NaN</td>\n",
       "    </tr>\n",
       "    <tr>\n",
       "      <th>2374</th>\n",
       "      <td>1</td>\n",
       "      <td>Estimate</td>\n",
       "      <td>NaN</td>\n",
       "      <td>NaN</td>\n",
       "      <td>NaN</td>\n",
       "      <td>NaN</td>\n",
       "    </tr>\n",
       "  </tbody>\n",
       "</table>\n",
       "</div>"
      ],
      "text/plain": [
       "               Country or Area           Commodity - Transaction    Year  \\\n",
       "2366                     Yemen  Conventional crude oil - exports  1994.0   \n",
       "2367                     Yemen  Conventional crude oil - exports  1993.0   \n",
       "2368                     Yemen  Conventional crude oil - exports  1992.0   \n",
       "2369                     Yemen  Conventional crude oil - exports  1991.0   \n",
       "2370  Yemen Arab Rep. (former)  Conventional crude oil - exports  1990.0   \n",
       "2371  Yugoslavia, SFR (former)  Conventional crude oil - exports  1991.0   \n",
       "2372  Yugoslavia, SFR (former)  Conventional crude oil - exports  1990.0   \n",
       "2373                   fnSeqID                          Footnote     NaN   \n",
       "2374                         1                          Estimate     NaN   \n",
       "\n",
       "                        Unit  Quantity  Quantity Footnotes  \n",
       "2366  Metric tons,  thousand   13255.0                 NaN  \n",
       "2367  Metric tons,  thousand    8327.0                 NaN  \n",
       "2368  Metric tons,  thousand    6153.0                 NaN  \n",
       "2369  Metric tons,  thousand    7028.0                 NaN  \n",
       "2370  Metric tons,  thousand    8058.0                 1.0  \n",
       "2371  Metric tons,  thousand       0.0                 NaN  \n",
       "2372  Metric tons,  thousand       0.0                 NaN  \n",
       "2373                     NaN       NaN                 NaN  \n",
       "2374                     NaN       NaN                 NaN  "
      ]
     },
     "execution_count": 23,
     "metadata": {},
     "output_type": "execute_result"
    }
   ],
   "source": [
    "# display the last 8 rows\n",
    "df.tail(9)"
   ]
  },
  {
   "cell_type": "code",
   "execution_count": 24,
   "metadata": {},
   "outputs": [
    {
     "data": {
      "text/plain": [
       "Index(['Country or Area', 'Commodity - Transaction', 'Year', 'Unit',\n",
       "       'Quantity', 'Quantity Footnotes'],\n",
       "      dtype='object')"
      ]
     },
     "execution_count": 24,
     "metadata": {},
     "output_type": "execute_result"
    }
   ],
   "source": [
    "# display the names of the columns\n",
    "df.columns"
   ]
  },
  {
   "cell_type": "code",
   "execution_count": 26,
   "metadata": {},
   "outputs": [
    {
     "data": {
      "application/vnd.microsoft.datawrangler.viewer.v0+json": {
       "columns": [
        {
         "name": "index",
         "rawType": "object",
         "type": "string"
        },
        {
         "name": "0",
         "rawType": "object",
         "type": "unknown"
        }
       ],
       "ref": "1df8df84-8849-4626-9f53-a030d81cea31",
       "rows": [
        [
         "Country or Area",
         "object"
        ],
        [
         "Commodity - Transaction",
         "object"
        ],
        [
         "Year",
         "float64"
        ],
        [
         "Unit",
         "object"
        ],
        [
         "Quantity",
         "float64"
        ],
        [
         "Quantity Footnotes",
         "float64"
        ]
       ],
       "shape": {
        "columns": 1,
        "rows": 6
       }
      },
      "text/plain": [
       "Country or Area             object\n",
       "Commodity - Transaction     object\n",
       "Year                       float64\n",
       "Unit                        object\n",
       "Quantity                   float64\n",
       "Quantity Footnotes         float64\n",
       "dtype: object"
      ]
     },
     "execution_count": 26,
     "metadata": {},
     "output_type": "execute_result"
    }
   ],
   "source": [
    "# display the data types in the columns\n",
    "df.dtypes"
   ]
  },
  {
   "cell_type": "code",
   "execution_count": 27,
   "metadata": {},
   "outputs": [
    {
     "data": {
      "text/plain": [
       "RangeIndex(start=0, stop=2375, step=1)"
      ]
     },
     "execution_count": 27,
     "metadata": {},
     "output_type": "execute_result"
    }
   ],
   "source": [
    "# display the row labels (the index)\n",
    "df.index"
   ]
  },
  {
   "cell_type": "code",
   "execution_count": 29,
   "metadata": {},
   "outputs": [
    {
     "data": {
      "text/plain": [
       "(2375, 6)"
      ]
     },
     "execution_count": 29,
     "metadata": {},
     "output_type": "execute_result"
    }
   ],
   "source": [
    "# how many rows does the data set have?\n",
    "df.shape"
   ]
  },
  {
   "cell_type": "code",
   "execution_count": 30,
   "metadata": {},
   "outputs": [
    {
     "data": {
      "application/vnd.microsoft.datawrangler.viewer.v0+json": {
       "columns": [
        {
         "name": "index",
         "rawType": "object",
         "type": "string"
        },
        {
         "name": "Year",
         "rawType": "float64",
         "type": "float"
        },
        {
         "name": "Quantity",
         "rawType": "float64",
         "type": "float"
        },
        {
         "name": "Quantity Footnotes",
         "rawType": "float64",
         "type": "float"
        }
       ],
       "ref": "1f79861f-2e45-4fcf-ba16-ead6b31dfa68",
       "rows": [
        [
         "count",
         "2373.0",
         "2373.0",
         "38.0"
        ],
        [
         "mean",
         "2005.819637589549",
         "25629.168283176987",
         "1.0"
        ],
        [
         "std",
         "8.918376467893257",
         "53125.71208264806",
         "0.0"
        ],
        [
         "min",
         "1990.0",
         "0.0",
         "1.0"
        ],
        [
         "25%",
         "1998.0",
         "202.411489",
         "1.0"
        ],
        [
         "50%",
         "2006.0",
         "3100.0",
         "1.0"
        ],
        [
         "75%",
         "2013.0",
         "21373.0",
         "1.0"
        ],
        [
         "max",
         "2021.0",
         "375945.0",
         "1.0"
        ]
       ],
       "shape": {
        "columns": 3,
        "rows": 8
       }
      },
      "text/html": [
       "<div>\n",
       "<style scoped>\n",
       "    .dataframe tbody tr th:only-of-type {\n",
       "        vertical-align: middle;\n",
       "    }\n",
       "\n",
       "    .dataframe tbody tr th {\n",
       "        vertical-align: top;\n",
       "    }\n",
       "\n",
       "    .dataframe thead th {\n",
       "        text-align: right;\n",
       "    }\n",
       "</style>\n",
       "<table border=\"1\" class=\"dataframe\">\n",
       "  <thead>\n",
       "    <tr style=\"text-align: right;\">\n",
       "      <th></th>\n",
       "      <th>Year</th>\n",
       "      <th>Quantity</th>\n",
       "      <th>Quantity Footnotes</th>\n",
       "    </tr>\n",
       "  </thead>\n",
       "  <tbody>\n",
       "    <tr>\n",
       "      <th>count</th>\n",
       "      <td>2373.000000</td>\n",
       "      <td>2373.000000</td>\n",
       "      <td>38.0</td>\n",
       "    </tr>\n",
       "    <tr>\n",
       "      <th>mean</th>\n",
       "      <td>2005.819638</td>\n",
       "      <td>25629.168283</td>\n",
       "      <td>1.0</td>\n",
       "    </tr>\n",
       "    <tr>\n",
       "      <th>std</th>\n",
       "      <td>8.918376</td>\n",
       "      <td>53125.712083</td>\n",
       "      <td>0.0</td>\n",
       "    </tr>\n",
       "    <tr>\n",
       "      <th>min</th>\n",
       "      <td>1990.000000</td>\n",
       "      <td>0.000000</td>\n",
       "      <td>1.0</td>\n",
       "    </tr>\n",
       "    <tr>\n",
       "      <th>25%</th>\n",
       "      <td>1998.000000</td>\n",
       "      <td>202.411489</td>\n",
       "      <td>1.0</td>\n",
       "    </tr>\n",
       "    <tr>\n",
       "      <th>50%</th>\n",
       "      <td>2006.000000</td>\n",
       "      <td>3100.000000</td>\n",
       "      <td>1.0</td>\n",
       "    </tr>\n",
       "    <tr>\n",
       "      <th>75%</th>\n",
       "      <td>2013.000000</td>\n",
       "      <td>21373.000000</td>\n",
       "      <td>1.0</td>\n",
       "    </tr>\n",
       "    <tr>\n",
       "      <th>max</th>\n",
       "      <td>2021.000000</td>\n",
       "      <td>375945.000000</td>\n",
       "      <td>1.0</td>\n",
       "    </tr>\n",
       "  </tbody>\n",
       "</table>\n",
       "</div>"
      ],
      "text/plain": [
       "              Year       Quantity  Quantity Footnotes\n",
       "count  2373.000000    2373.000000                38.0\n",
       "mean   2005.819638   25629.168283                 1.0\n",
       "std       8.918376   53125.712083                 0.0\n",
       "min    1990.000000       0.000000                 1.0\n",
       "25%    1998.000000     202.411489                 1.0\n",
       "50%    2006.000000    3100.000000                 1.0\n",
       "75%    2013.000000   21373.000000                 1.0\n",
       "max    2021.000000  375945.000000                 1.0"
      ]
     },
     "execution_count": 30,
     "metadata": {},
     "output_type": "execute_result"
    }
   ],
   "source": [
    "# display the summary statistics for this dataset\n",
    "df.describe()"
   ]
  },
  {
   "cell_type": "markdown",
   "metadata": {},
   "source": [
    "## Task 2b: Clean the data \n",
    "In this task, we will remove not needed columns, and all rows where we have missing values. Then, we will convert some of the columns into a different data type."
   ]
  },
  {
   "cell_type": "code",
   "execution_count": null,
   "metadata": {},
   "outputs": [],
   "source": [
    "# remove the columns \"Quantity Footnotes\" and \""
   ]
  },
  {
   "cell_type": "code",
   "execution_count": null,
   "metadata": {},
   "outputs": [],
   "source": [
    "# remove rows (if any) where \"Country or Area\" is not availabe, \n",
    "# using boolean indexing with \".notna()\""
   ]
  },
  {
   "cell_type": "code",
   "execution_count": null,
   "metadata": {},
   "outputs": [],
   "source": [
    "# remove rows (if any) where \"Year\" is missing "
   ]
  },
  {
   "cell_type": "code",
   "execution_count": null,
   "metadata": {},
   "outputs": [],
   "source": [
    "# remove rows (if any) where \"Quantity\" is missing"
   ]
  },
  {
   "cell_type": "code",
   "execution_count": null,
   "metadata": {},
   "outputs": [],
   "source": [
    "# check whether all the rows of \"Commodity - Transaction\" contain the same value, i.e.,\n",
    "# the string value 'Conventional crude oil - exports' "
   ]
  },
  {
   "cell_type": "code",
   "execution_count": null,
   "metadata": {},
   "outputs": [],
   "source": [
    "# how many rows do we have in our data set now?"
   ]
  },
  {
   "cell_type": "code",
   "execution_count": null,
   "metadata": {},
   "outputs": [],
   "source": [
    "# change the datatype of the \"Year\" column to integer"
   ]
  },
  {
   "cell_type": "markdown",
   "metadata": {},
   "source": [
    "## Task 2c: Access parts of the data"
   ]
  },
  {
   "cell_type": "code",
   "execution_count": null,
   "metadata": {},
   "outputs": [],
   "source": [
    "# display only the \"Country or Area\" column"
   ]
  },
  {
   "cell_type": "code",
   "execution_count": null,
   "metadata": {},
   "outputs": [],
   "source": [
    "# display only the data from the first row of the data set"
   ]
  },
  {
   "cell_type": "code",
   "execution_count": null,
   "metadata": {},
   "outputs": [],
   "source": [
    "# display the part of the dataset where \"Country or Area\" is equal to \"Costa Rica\""
   ]
  },
  {
   "cell_type": "code",
   "execution_count": null,
   "metadata": {},
   "outputs": [],
   "source": [
    "# display the part of the data set that contains data for the year 2010"
   ]
  },
  {
   "cell_type": "code",
   "execution_count": null,
   "metadata": {},
   "outputs": [],
   "source": [
    "# display the part of the data set that contains quantities over 200000 \n",
    "# (two hundred thousand) (in thousand metric tons, unit of the \"Quantity\" column); \n",
    "# who are the big exporters?"
   ]
  },
  {
   "cell_type": "code",
   "execution_count": null,
   "metadata": {},
   "outputs": [],
   "source": [
    "# display the row in the data set that shows how much oil \n",
    "# (in thousand metric tons, unit of the \"Quantity\" column)\n",
    "# Denmark exported in 2020 "
   ]
  },
  {
   "cell_type": "code",
   "execution_count": null,
   "metadata": {},
   "outputs": [],
   "source": [
    "# display the part of the data set that shows export quantities over 30 000 \n",
    "# (thirty thousand) for the year 1990\n",
    "# (in thousand metric tons, unit of the \"Quantity\" column)"
   ]
  },
  {
   "cell_type": "code",
   "execution_count": null,
   "metadata": {},
   "outputs": [],
   "source": [
    "# Which countries did not export any oil in 2017?\n",
    "# (display the subset of the dataframe) "
   ]
  },
  {
   "cell_type": "markdown",
   "metadata": {},
   "source": [
    "## Task 2d: Zoom in on a subset & explore the data\n",
    "\n",
    "From now on, we will work with only a **subset** of the data set, looking only at the **most recent year** for which data is availabe. Make sure that you create a copy of the dataframe that you used until now, using the `.copy()` method, so that our manipulations of the subset data frame will not affect the original data frame."
   ]
  },
  {
   "cell_type": "code",
   "execution_count": null,
   "metadata": {},
   "outputs": [],
   "source": [
    "# copy the part of the data set for the MOST RECENT year into a separate data frame \n",
    "# called oilXXXX (XXXX standing for the most recent year)"
   ]
  },
  {
   "cell_type": "code",
   "execution_count": null,
   "metadata": {},
   "outputs": [],
   "source": [
    "# what is the TOTAL quantity of exported oil? (summed over all countries)\n",
    "# save the value to a variable called total_exports"
   ]
  },
  {
   "cell_type": "code",
   "execution_count": null,
   "metadata": {},
   "outputs": [],
   "source": [
    "# sort the rows by descending value of \"Quantity\" \n",
    "# (i.e. the first row should contain the biggest exporter, etc.)\n",
    "# make sure that you don't just *display* the sorted dataframe, but actually \n",
    "# *change* the dataframe into a sorted-by-quantity one"
   ]
  },
  {
   "cell_type": "code",
   "execution_count": null,
   "metadata": {},
   "outputs": [],
   "source": [
    "# add a new column called \"perc\" to the dataframe; in this column,\n",
    "# compute, for each country, what percentage of total_exports \n",
    "# their exported quantity translates to."
   ]
  },
  {
   "cell_type": "code",
   "execution_count": null,
   "metadata": {},
   "outputs": [],
   "source": [
    "# display the first 10 rows one more time: \n",
    "# now you should see what are the biggest 10 exporters in the most recent year?"
   ]
  },
  {
   "cell_type": "code",
   "execution_count": null,
   "metadata": {},
   "outputs": [],
   "source": [
    "# for a country of your choice that is not on the \"top 10\", \n",
    "# find out what is their percentage of total exports?\n",
    "# (just display the row for that country)"
   ]
  },
  {
   "cell_type": "code",
   "execution_count": null,
   "metadata": {},
   "outputs": [],
   "source": [
    "# find out which country exported the most, and which country exported the least;\n",
    "# what is the ratio (proportion) of the biggest vs. smallest export quantity?"
   ]
  },
  {
   "cell_type": "markdown",
   "metadata": {},
   "source": [
    "## Task 2e: Write your manipulated data set to a file\n",
    "\n",
    "Write the data set from the previous file (with data only on the most recent year; and with the added column containig percentages) to a file."
   ]
  },
  {
   "cell_type": "code",
   "execution_count": null,
   "metadata": {},
   "outputs": [],
   "source": [
    "# write to csv with the help of pandas \n",
    "# (you don't need to write the row labels (index) to the file)"
   ]
  },
  {
   "cell_type": "code",
   "execution_count": null,
   "metadata": {},
   "outputs": [],
   "source": [
    "# read back in into a variable called \"df\" & \n",
    "# display the first 10 rows to check"
   ]
  },
  {
   "cell_type": "markdown",
   "metadata": {},
   "source": [
    "# Task 3 - Greatest Hits\n",
    "\n",
    "We will be working with a data set of popular Spotify songs 1998-2020 (taken from [Kaggle](https://www.kaggle.com/datasets/paradisejoy/top-hits-spotify-from-20002019)). We have one .csv file for each year (as indicated in the file name).\n",
    "\n",
    "Your task is to:\n",
    "1. Read in all files as pandas data frames, and add a `year` column that contains the year (according to the file name);\n",
    "2. concatenate the yearly data sets into **one single pandas DataFrame with the variable name `df`**;\n",
    "3. The \"genre\" column contains 0 to several genres for each record - add a \"genres\" column that contains all genres for that record as list of strings;\n",
    "4. Now, write the function `next_on_my_playlist()` that takes your modified dataframe as input and will suggest to you which song you should listen to next.\n",
    "\n",
    "***\n",
    "\n",
    "**Input specifications for `next_on_my_playlist()`:**\n",
    "* `next_on_my_playlist()` takes the *required* input parameter `data` (here, you will pass the single pandas DataFrame as argument); and the *optional* input parameters `year`, `energy_above`, `genre`; \n",
    "* `year`and `genre` are categorical variables (i.e. there is a limited set of possible values);\n",
    "* `energy_above` is a numerical variable (i.e. an interval)\n",
    "* make sure to include default values for the optional parameters: for `year`, the default value should be the year that has the most records (i.e., rows) in the DataFrame; for `energy_above`, it should be the median of the `energy` values; and for `genre`, it should be the genre that appears most often in the lists of genres\n",
    "* You can [check the data set specifications](https://www.kaggle.com/datasets/paradisejoy/top-hits-spotify-from-20002019) and use pandas to determine appropriate accepted and default values for all three input categories before writing the function\n",
    "* for all three input parameters, implement `assert` statements to test whether arguments (as provided by the user when calling the function) are correct, and include an assertion error\n",
    "\n",
    "**Output specifications for `next_on_my_playlist()`:**\n",
    "* `next_on_my_playlist()` returns two variables: artist *and* title of a song that meets all three input criteria;\n",
    "* If *several* songs meet the criteria, randomly choose one;\n",
    "* If *no* songs meet the criteria, return [\"Mississippi Goddamn\" by Nina Simone](https://www.youtube.com/watch?v=LJ25-U3jNWM);\n",
    "* Include a docstring;\n",
    "* Run the cell below to assert that your function works as expected."
   ]
  },
  {
   "cell_type": "code",
   "execution_count": null,
   "metadata": {},
   "outputs": [],
   "source": [
    "# YOUR CODE HERE"
   ]
  },
  {
   "cell_type": "code",
   "execution_count": null,
   "metadata": {},
   "outputs": [],
   "source": [
    "# run assert statements to check that function is correctly implemented\n",
    "assert next_on_my_playlist(data=df, genre = \"blues\", year=2003, energy = 0.1) == ('The White Stripes', 'Seven Nation Army') \n",
    "assert next_on_my_playlist(data=df, genre = \"R&B\", year=2003, energy = 0.93) == ('Sugababes', 'Hole In The Head')\n",
    "assert next_on_my_playlist(data=df, genre = \"blues\", year=2014, energy = 1) == ('Nina Simone', 'Mississippi Goddamn')"
   ]
  },
  {
   "cell_type": "markdown",
   "metadata": {},
   "source": []
  }
 ],
 "metadata": {
  "kernelspec": {
   "display_name": "base",
   "language": "python",
   "name": "python3"
  },
  "language_info": {
   "codemirror_mode": {
    "name": "ipython",
    "version": 3
   },
   "file_extension": ".py",
   "mimetype": "text/x-python",
   "name": "python",
   "nbconvert_exporter": "python",
   "pygments_lexer": "ipython3",
   "version": "3.13.5"
  },
  "orig_nbformat": 4
 },
 "nbformat": 4,
 "nbformat_minor": 2
}
