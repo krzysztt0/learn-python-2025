{
 "cells": [
  {
   "cell_type": "code",
   "execution_count": 1,
   "id": "56a8b3a3",
   "metadata": {
    "slideshow": {
     "slide_type": "slide"
    }
   },
   "outputs": [],
   "source": [
    "import pandas as pd"
   ]
  },
  {
   "cell_type": "markdown",
   "id": "33966f7d",
   "metadata": {
    "slideshow": {
     "slide_type": "slide"
    }
   },
   "source": [
    "# Python Crash Course IDSP 2025 - Lecture 05\n",
    "\n",
    "* seeding of randomnes\n",
    "* type checking with isinstance()\n",
    "\n",
    "More pandas:\n",
    "\n",
    "* recap pandas so far\n",
    "* tilde operator\n",
    "* finding unique values\n",
    "* filtering out missing values\n",
    "* changing values in a cell\n",
    "* how not to do it (\"a value is being tried to set...\")\n",
    "* setting a data type for a series\n",
    "* groupby!!\n",
    "\n",
    "**Binary search algorithm** (if we get to it)"
   ]
  },
  {
   "cell_type": "markdown",
   "id": "0f3ee444",
   "metadata": {
    "slideshow": {
     "slide_type": "slide"
    }
   },
   "source": [
    "# More coding hacks\n",
    "\n",
    "* type checking with `isinstance()`\n",
    "* seeding of randomness with `random.seed()`"
   ]
  },
  {
   "cell_type": "code",
   "execution_count": 2,
   "id": "b119a528",
   "metadata": {
    "slideshow": {
     "slide_type": "slide"
    }
   },
   "outputs": [
    {
     "data": {
      "text/plain": [
       "True"
      ]
     },
     "execution_count": 2,
     "metadata": {},
     "output_type": "execute_result"
    }
   ],
   "source": [
    "# type checking\n",
    "# how to check if an object is of a certain type?\n",
    "type(3)==int # ok, but not ideal\n",
    "isinstance(3, int) # MUCH BETTER!"
   ]
  },
  {
   "cell_type": "code",
   "execution_count": 3,
   "id": "39b18110",
   "metadata": {
    "slideshow": {
     "slide_type": "slide"
    }
   },
   "outputs": [
    {
     "data": {
      "text/plain": [
       "36"
      ]
     },
     "execution_count": 3,
     "metadata": {},
     "output_type": "execute_result"
    }
   ],
   "source": [
    "# random seeding\n",
    "import random\n",
    "# random.seed(1312)\n",
    "random.choice(range(100))"
   ]
  },
  {
   "cell_type": "markdown",
   "id": "ea034d0e",
   "metadata": {
    "slideshow": {
     "slide_type": "slide"
    }
   },
   "source": [
    "# INSERT PANDAS RECAP"
   ]
  },
  {
   "cell_type": "markdown",
   "id": "08ef89e0",
   "metadata": {
    "slideshow": {
     "slide_type": "slide"
    }
   },
   "source": [
    "# pandas functions\n",
    "\n",
    "```python\n",
    "pd.read_csv()\n",
    "pd.DataFrame()\n",
    "pd.concat()\n",
    "```"
   ]
  },
  {
   "cell_type": "markdown",
   "id": "334114b2",
   "metadata": {
    "slideshow": {
     "slide_type": "slide"
    }
   },
   "source": [
    "# pandas DataFrame attributes\n",
    "```python\n",
    ".index\n",
    ".column\n",
    ".shape\n",
    "```"
   ]
  },
  {
   "cell_type": "markdown",
   "id": "94ae982d",
   "metadata": {
    "slideshow": {
     "slide_type": "slide"
    }
   },
   "source": [
    "# pandas methods for DataFrames\n",
    "\n",
    "```python\n",
    ".head()\n",
    ".tail()\n",
    ".describe()\n",
    ".sort_values()\n",
    ".drop()\n",
    ".reset_index()\n",
    "```"
   ]
  },
  {
   "cell_type": "markdown",
   "id": "0ddec38c",
   "metadata": {
    "slideshow": {
     "slide_type": "slide"
    }
   },
   "source": [
    "# Boolean indexing (filtering by condition)\n",
    "\n",
    "##### `df[columnlabel]` can be combined with comparison `> < == !=`  operators\n",
    "##### `conditions` can be combined with \"bitwise and\"  `&`, \"bitwise or\" `|`  operators\n",
    "##### `df[condition]` returns only those rows where condition is True\n",
    "##### `df[(condition1) & (condition2)]` returns only those rows where both conditions are True\n",
    "##### `df[(condition1) | (condition2)]` returns only those rows at least one of the conditions is True"
   ]
  },
  {
   "cell_type": "markdown",
   "id": "304994b7",
   "metadata": {
    "slideshow": {
     "slide_type": "slide"
    }
   },
   "source": [
    "***\n",
    "# Let's load our Titanic data set again"
   ]
  },
  {
   "cell_type": "code",
   "execution_count": 4,
   "id": "93400e0b",
   "metadata": {
    "slideshow": {
     "slide_type": "slide"
    }
   },
   "outputs": [],
   "source": [
    "df = pd.read_csv(\"./data/titanic.csv\")"
   ]
  },
  {
   "cell_type": "markdown",
   "id": "10c07d63",
   "metadata": {
    "slideshow": {
     "slide_type": "slide"
    }
   },
   "source": [
    "# Try it out yourself!\n",
    "\n",
    "* read in the data one more time (we messed around with the old data frame) with `pd.read_csv()`\n",
    "* filter by 2 conditions: `\"Sex\"==\"female\"` and `\"Age\">60`\n",
    "* save a COPY of the filtered data set to the variable `old_ladies`\n",
    "* how many old ladies were on the Titanic? (`len()`)\n",
    "* how may of the old ladies were badass ladies that survived? `\"Survived\"==1`\n",
    "* what is the mean fare that the old ladies paid? (`.describe()`, or calculate it manually, or with `.mean()`)"
   ]
  },
  {
   "cell_type": "code",
   "execution_count": 17,
   "id": "8e434eb6",
   "metadata": {
    "slideshow": {
     "slide_type": "slide"
    }
   },
   "outputs": [
    {
     "data": {
      "application/vnd.microsoft.datawrangler.viewer.v0+json": {
       "columns": [
        {
         "name": "index",
         "rawType": "int64",
         "type": "integer"
        },
        {
         "name": "PassengerId",
         "rawType": "int64",
         "type": "integer"
        },
        {
         "name": "Survived",
         "rawType": "int64",
         "type": "integer"
        },
        {
         "name": "Pclass",
         "rawType": "int64",
         "type": "integer"
        },
        {
         "name": "Name",
         "rawType": "object",
         "type": "string"
        },
        {
         "name": "Sex",
         "rawType": "object",
         "type": "string"
        },
        {
         "name": "Age",
         "rawType": "float64",
         "type": "float"
        },
        {
         "name": "SibSp",
         "rawType": "int64",
         "type": "integer"
        },
        {
         "name": "Parch",
         "rawType": "int64",
         "type": "integer"
        },
        {
         "name": "Ticket",
         "rawType": "object",
         "type": "string"
        },
        {
         "name": "Fare",
         "rawType": "float64",
         "type": "float"
        },
        {
         "name": "Cabin",
         "rawType": "object",
         "type": "unknown"
        },
        {
         "name": "Embarked",
         "rawType": "object",
         "type": "unknown"
        }
       ],
       "ref": "610c788b-0c38-49a8-95b6-9e1af60847b9",
       "rows": [
        [
         "275",
         "276",
         "1",
         "1",
         "Andrews, Miss. Kornelia Theodosia",
         "female",
         "63.0",
         "1",
         "0",
         "13502",
         "77.9583",
         "D7",
         "S"
        ],
        [
         "483",
         "484",
         "1",
         "3",
         "Turkula, Mrs. (Hedwig)",
         "female",
         "63.0",
         "0",
         "0",
         "4134",
         "9.5875",
         null,
         "S"
        ],
        [
         "829",
         "830",
         "1",
         "1",
         "Stone, Mrs. George Nelson (Martha Evelyn)",
         "female",
         "62.0",
         "0",
         "0",
         "113572",
         "80.0",
         "B28",
         null
        ]
       ],
       "shape": {
        "columns": 12,
        "rows": 3
       }
      },
      "text/html": [
       "<div>\n",
       "<style scoped>\n",
       "    .dataframe tbody tr th:only-of-type {\n",
       "        vertical-align: middle;\n",
       "    }\n",
       "\n",
       "    .dataframe tbody tr th {\n",
       "        vertical-align: top;\n",
       "    }\n",
       "\n",
       "    .dataframe thead th {\n",
       "        text-align: right;\n",
       "    }\n",
       "</style>\n",
       "<table border=\"1\" class=\"dataframe\">\n",
       "  <thead>\n",
       "    <tr style=\"text-align: right;\">\n",
       "      <th></th>\n",
       "      <th>PassengerId</th>\n",
       "      <th>Survived</th>\n",
       "      <th>Pclass</th>\n",
       "      <th>Name</th>\n",
       "      <th>Sex</th>\n",
       "      <th>Age</th>\n",
       "      <th>SibSp</th>\n",
       "      <th>Parch</th>\n",
       "      <th>Ticket</th>\n",
       "      <th>Fare</th>\n",
       "      <th>Cabin</th>\n",
       "      <th>Embarked</th>\n",
       "    </tr>\n",
       "  </thead>\n",
       "  <tbody>\n",
       "    <tr>\n",
       "      <th>275</th>\n",
       "      <td>276</td>\n",
       "      <td>1</td>\n",
       "      <td>1</td>\n",
       "      <td>Andrews, Miss. Kornelia Theodosia</td>\n",
       "      <td>female</td>\n",
       "      <td>63.0</td>\n",
       "      <td>1</td>\n",
       "      <td>0</td>\n",
       "      <td>13502</td>\n",
       "      <td>77.9583</td>\n",
       "      <td>D7</td>\n",
       "      <td>S</td>\n",
       "    </tr>\n",
       "    <tr>\n",
       "      <th>483</th>\n",
       "      <td>484</td>\n",
       "      <td>1</td>\n",
       "      <td>3</td>\n",
       "      <td>Turkula, Mrs. (Hedwig)</td>\n",
       "      <td>female</td>\n",
       "      <td>63.0</td>\n",
       "      <td>0</td>\n",
       "      <td>0</td>\n",
       "      <td>4134</td>\n",
       "      <td>9.5875</td>\n",
       "      <td>NaN</td>\n",
       "      <td>S</td>\n",
       "    </tr>\n",
       "    <tr>\n",
       "      <th>829</th>\n",
       "      <td>830</td>\n",
       "      <td>1</td>\n",
       "      <td>1</td>\n",
       "      <td>Stone, Mrs. George Nelson (Martha Evelyn)</td>\n",
       "      <td>female</td>\n",
       "      <td>62.0</td>\n",
       "      <td>0</td>\n",
       "      <td>0</td>\n",
       "      <td>113572</td>\n",
       "      <td>80.0000</td>\n",
       "      <td>B28</td>\n",
       "      <td>NaN</td>\n",
       "    </tr>\n",
       "  </tbody>\n",
       "</table>\n",
       "</div>"
      ],
      "text/plain": [
       "     PassengerId  Survived  Pclass                                       Name  \\\n",
       "275          276         1       1          Andrews, Miss. Kornelia Theodosia   \n",
       "483          484         1       3                     Turkula, Mrs. (Hedwig)   \n",
       "829          830         1       1  Stone, Mrs. George Nelson (Martha Evelyn)   \n",
       "\n",
       "        Sex   Age  SibSp  Parch  Ticket     Fare Cabin Embarked  \n",
       "275  female  63.0      1      0   13502  77.9583    D7        S  \n",
       "483  female  63.0      0      0    4134   9.5875   NaN        S  \n",
       "829  female  62.0      0      0  113572  80.0000   B28      NaN  "
      ]
     },
     "execution_count": 17,
     "metadata": {},
     "output_type": "execute_result"
    }
   ],
   "source": [
    "# YOUR CODE HERE\n",
    "old_women = df[(df[\"Sex\"] == \"female\") & (df[\"Age\"] >60)].copy()\n",
    "old_women\n"
   ]
  },
  {
   "cell_type": "markdown",
   "id": "887da3c0",
   "metadata": {
    "slideshow": {
     "slide_type": "slide"
    }
   },
   "source": [
    "***\n",
    "\n",
    "## UNIQUE VALUES"
   ]
  },
  {
   "cell_type": "code",
   "execution_count": null,
   "id": "9a8f1974",
   "metadata": {
    "slideshow": {
     "slide_type": "slide"
    }
   },
   "outputs": [],
   "source": [
    "# df.head(3)\n",
    "# set(df.Survived) # option 1\n",
    "# df[\"Survived\"].unique() # option 2"
   ]
  },
  {
   "cell_type": "markdown",
   "id": "c301a228",
   "metadata": {
    "slideshow": {
     "slide_type": "slide"
    }
   },
   "source": [
    "***\n",
    "\n",
    "## Tilde operator `~` in pandas means `not` (\"inversion\" operator)"
   ]
  },
  {
   "cell_type": "code",
   "execution_count": 18,
   "id": "0e9ce026",
   "metadata": {
    "slideshow": {
     "slide_type": "slide"
    }
   },
   "outputs": [
    {
     "data": {
      "application/vnd.microsoft.datawrangler.viewer.v0+json": {
       "columns": [
        {
         "name": "index",
         "rawType": "int64",
         "type": "integer"
        },
        {
         "name": "PassengerId",
         "rawType": "int64",
         "type": "integer"
        },
        {
         "name": "Survived",
         "rawType": "int64",
         "type": "integer"
        },
        {
         "name": "Pclass",
         "rawType": "int64",
         "type": "integer"
        },
        {
         "name": "Name",
         "rawType": "object",
         "type": "string"
        },
        {
         "name": "Sex",
         "rawType": "object",
         "type": "string"
        },
        {
         "name": "Age",
         "rawType": "float64",
         "type": "float"
        },
        {
         "name": "SibSp",
         "rawType": "int64",
         "type": "integer"
        },
        {
         "name": "Parch",
         "rawType": "int64",
         "type": "integer"
        },
        {
         "name": "Ticket",
         "rawType": "object",
         "type": "string"
        },
        {
         "name": "Fare",
         "rawType": "float64",
         "type": "float"
        },
        {
         "name": "Cabin",
         "rawType": "object",
         "type": "unknown"
        },
        {
         "name": "Embarked",
         "rawType": "object",
         "type": "string"
        }
       ],
       "ref": "7be44397-828c-4647-b6e2-c7938a7d5966",
       "rows": [
        [
         "7",
         "8",
         "0",
         "3",
         "Palsson, Master. Gosta Leonard",
         "male",
         "2.0",
         "3",
         "1",
         "349909",
         "21.075",
         null,
         "S"
        ],
        [
         "9",
         "10",
         "1",
         "2",
         "Nasser, Mrs. Nicholas (Adele Achem)",
         "female",
         "14.0",
         "1",
         "0",
         "237736",
         "30.0708",
         null,
         "C"
        ],
        [
         "10",
         "11",
         "1",
         "3",
         "Sandstrom, Miss. Marguerite Rut",
         "female",
         "4.0",
         "1",
         "1",
         "PP 9549",
         "16.7",
         "G6",
         "S"
        ],
        [
         "14",
         "15",
         "0",
         "3",
         "Vestrom, Miss. Hulda Amanda Adolfina",
         "female",
         "14.0",
         "0",
         "0",
         "350406",
         "7.8542",
         null,
         "S"
        ],
        [
         "16",
         "17",
         "0",
         "3",
         "Rice, Master. Eugene",
         "male",
         "2.0",
         "4",
         "1",
         "382652",
         "29.125",
         null,
         "Q"
        ],
        [
         "22",
         "23",
         "1",
         "3",
         "McGowan, Miss. Anna \"Annie\"",
         "female",
         "15.0",
         "0",
         "0",
         "330923",
         "8.0292",
         null,
         "Q"
        ],
        [
         "24",
         "25",
         "0",
         "3",
         "Palsson, Miss. Torborg Danira",
         "female",
         "8.0",
         "3",
         "1",
         "349909",
         "21.075",
         null,
         "S"
        ],
        [
         "39",
         "40",
         "1",
         "3",
         "Nicola-Yarred, Miss. Jamila",
         "female",
         "14.0",
         "1",
         "0",
         "2651",
         "11.2417",
         null,
         "C"
        ],
        [
         "43",
         "44",
         "1",
         "2",
         "Laroche, Miss. Simonne Marie Anne Andree",
         "female",
         "3.0",
         "1",
         "2",
         "SC/Paris 2123",
         "41.5792",
         null,
         "C"
        ],
        [
         "50",
         "51",
         "0",
         "3",
         "Panula, Master. Juha Niilo",
         "male",
         "7.0",
         "4",
         "1",
         "3101295",
         "39.6875",
         null,
         "S"
        ],
        [
         "58",
         "59",
         "1",
         "2",
         "West, Miss. Constance Mirium",
         "female",
         "5.0",
         "1",
         "2",
         "C.A. 34651",
         "27.75",
         null,
         "S"
        ],
        [
         "59",
         "60",
         "0",
         "3",
         "Goodwin, Master. William Frederick",
         "male",
         "11.0",
         "5",
         "2",
         "CA 2144",
         "46.9",
         null,
         "S"
        ],
        [
         "63",
         "64",
         "0",
         "3",
         "Skoog, Master. Harald",
         "male",
         "4.0",
         "3",
         "2",
         "347088",
         "27.9",
         null,
         "S"
        ],
        [
         "68",
         "69",
         "1",
         "3",
         "Andersson, Miss. Erna Alexandra",
         "female",
         "17.0",
         "4",
         "2",
         "3101281",
         "7.925",
         null,
         "S"
        ],
        [
         "71",
         "72",
         "0",
         "3",
         "Goodwin, Miss. Lillian Amy",
         "female",
         "16.0",
         "5",
         "2",
         "CA 2144",
         "46.9",
         null,
         "S"
        ],
        [
         "78",
         "79",
         "1",
         "2",
         "Caldwell, Master. Alden Gates",
         "male",
         "0.83",
         "0",
         "2",
         "248738",
         "29.0",
         null,
         "S"
        ],
        [
         "84",
         "85",
         "1",
         "2",
         "Ilett, Miss. Bertha",
         "female",
         "17.0",
         "0",
         "0",
         "SO/C 14885",
         "10.5",
         null,
         "S"
        ],
        [
         "86",
         "87",
         "0",
         "3",
         "Ford, Mr. William Neal",
         "male",
         "16.0",
         "1",
         "3",
         "W./C. 6608",
         "34.375",
         null,
         "S"
        ],
        [
         "111",
         "112",
         "0",
         "3",
         "Zabour, Miss. Hileni",
         "female",
         "14.5",
         "1",
         "0",
         "2665",
         "14.4542",
         null,
         "C"
        ],
        [
         "114",
         "115",
         "0",
         "3",
         "Attalah, Miss. Malake",
         "female",
         "17.0",
         "0",
         "0",
         "2627",
         "14.4583",
         null,
         "C"
        ],
        [
         "119",
         "120",
         "0",
         "3",
         "Andersson, Miss. Ellis Anna Maria",
         "female",
         "2.0",
         "4",
         "2",
         "347082",
         "31.275",
         null,
         "S"
        ],
        [
         "125",
         "126",
         "1",
         "3",
         "Nicola-Yarred, Master. Elias",
         "male",
         "12.0",
         "1",
         "0",
         "2651",
         "11.2417",
         null,
         "C"
        ],
        [
         "138",
         "139",
         "0",
         "3",
         "Osen, Mr. Olaf Elon",
         "male",
         "16.0",
         "0",
         "0",
         "7534",
         "9.2167",
         null,
         "S"
        ],
        [
         "147",
         "148",
         "0",
         "3",
         "Ford, Miss. Robina Maggie \"Ruby\"",
         "female",
         "9.0",
         "2",
         "2",
         "W./C. 6608",
         "34.375",
         null,
         "S"
        ],
        [
         "156",
         "157",
         "1",
         "3",
         "Gilnagh, Miss. Katherine \"Katie\"",
         "female",
         "16.0",
         "0",
         "0",
         "35851",
         "7.7333",
         null,
         "Q"
        ],
        [
         "163",
         "164",
         "0",
         "3",
         "Calic, Mr. Jovo",
         "male",
         "17.0",
         "0",
         "0",
         "315093",
         "8.6625",
         null,
         "S"
        ],
        [
         "164",
         "165",
         "0",
         "3",
         "Panula, Master. Eino Viljami",
         "male",
         "1.0",
         "4",
         "1",
         "3101295",
         "39.6875",
         null,
         "S"
        ],
        [
         "165",
         "166",
         "1",
         "3",
         "Goldsmith, Master. Frank John William \"Frankie\"",
         "male",
         "9.0",
         "0",
         "2",
         "363291",
         "20.525",
         null,
         "S"
        ],
        [
         "171",
         "172",
         "0",
         "3",
         "Rice, Master. Arthur",
         "male",
         "4.0",
         "4",
         "1",
         "382652",
         "29.125",
         null,
         "Q"
        ],
        [
         "172",
         "173",
         "1",
         "3",
         "Johnson, Miss. Eleanor Ileen",
         "female",
         "1.0",
         "1",
         "1",
         "347742",
         "11.1333",
         null,
         "S"
        ],
        [
         "182",
         "183",
         "0",
         "3",
         "Asplund, Master. Clarence Gustaf Hugo",
         "male",
         "9.0",
         "4",
         "2",
         "347077",
         "31.3875",
         null,
         "S"
        ],
        [
         "183",
         "184",
         "1",
         "2",
         "Becker, Master. Richard F",
         "male",
         "1.0",
         "2",
         "1",
         "230136",
         "39.0",
         "F4",
         "S"
        ],
        [
         "184",
         "185",
         "1",
         "3",
         "Kink-Heilmann, Miss. Luise Gretchen",
         "female",
         "4.0",
         "0",
         "2",
         "315153",
         "22.025",
         null,
         "S"
        ],
        [
         "193",
         "194",
         "1",
         "2",
         "Navratil, Master. Michel M",
         "male",
         "3.0",
         "1",
         "1",
         "230080",
         "26.0",
         "F2",
         "S"
        ],
        [
         "205",
         "206",
         "0",
         "3",
         "Strom, Miss. Telma Matilda",
         "female",
         "2.0",
         "0",
         "1",
         "347054",
         "10.4625",
         "G6",
         "S"
        ],
        [
         "208",
         "209",
         "1",
         "3",
         "Carr, Miss. Helen \"Ellen\"",
         "female",
         "16.0",
         "0",
         "0",
         "367231",
         "7.75",
         null,
         "Q"
        ],
        [
         "220",
         "221",
         "1",
         "3",
         "Sunderland, Mr. Victor Francis",
         "male",
         "16.0",
         "0",
         "0",
         "SOTON/OQ 392089",
         "8.05",
         null,
         "S"
        ],
        [
         "233",
         "234",
         "1",
         "3",
         "Asplund, Miss. Lillian Gertrud",
         "female",
         "5.0",
         "4",
         "2",
         "347077",
         "31.3875",
         null,
         "S"
        ],
        [
         "237",
         "238",
         "1",
         "2",
         "Collyer, Miss. Marjorie \"Lottie\"",
         "female",
         "8.0",
         "0",
         "2",
         "C.A. 31921",
         "26.25",
         null,
         "S"
        ],
        [
         "261",
         "262",
         "1",
         "3",
         "Asplund, Master. Edvin Rojj Felix",
         "male",
         "3.0",
         "4",
         "2",
         "347077",
         "31.3875",
         null,
         "S"
        ],
        [
         "266",
         "267",
         "0",
         "3",
         "Panula, Mr. Ernesti Arvid",
         "male",
         "16.0",
         "4",
         "1",
         "3101295",
         "39.6875",
         null,
         "S"
        ],
        [
         "278",
         "279",
         "0",
         "3",
         "Rice, Master. Eric",
         "male",
         "7.0",
         "4",
         "1",
         "382652",
         "29.125",
         null,
         "Q"
        ],
        [
         "282",
         "283",
         "0",
         "3",
         "de Pelsmaeker, Mr. Alfons",
         "male",
         "16.0",
         "0",
         "0",
         "345778",
         "9.5",
         null,
         "S"
        ],
        [
         "297",
         "298",
         "0",
         "1",
         "Allison, Miss. Helen Loraine",
         "female",
         "2.0",
         "1",
         "2",
         "113781",
         "151.55",
         "C22 C26",
         "S"
        ],
        [
         "305",
         "306",
         "1",
         "1",
         "Allison, Master. Hudson Trevor",
         "male",
         "0.92",
         "1",
         "2",
         "113781",
         "151.55",
         "C22 C26",
         "S"
        ],
        [
         "307",
         "308",
         "1",
         "1",
         "Penasco y Castellana, Mrs. Victor de Satode (Maria Josefa Perez de Soto y Vallejo)",
         "female",
         "17.0",
         "1",
         "0",
         "PC 17758",
         "108.9",
         "C65",
         "C"
        ],
        [
         "329",
         "330",
         "1",
         "1",
         "Hippach, Miss. Jean Gertrude",
         "female",
         "16.0",
         "0",
         "1",
         "111361",
         "57.9792",
         "B18",
         "C"
        ],
        [
         "333",
         "334",
         "0",
         "3",
         "Vander Planke, Mr. Leo Edmondus",
         "male",
         "16.0",
         "2",
         "0",
         "345764",
         "18.0",
         null,
         "S"
        ],
        [
         "340",
         "341",
         "1",
         "2",
         "Navratil, Master. Edmond Roger",
         "male",
         "2.0",
         "1",
         "1",
         "230080",
         "26.0",
         "F2",
         "S"
        ],
        [
         "348",
         "349",
         "1",
         "3",
         "Coutts, Master. William Loch \"William\"",
         "male",
         "3.0",
         "1",
         "1",
         "C.A. 37671",
         "15.9",
         null,
         "S"
        ]
       ],
       "shape": {
        "columns": 12,
        "rows": 113
       }
      },
      "text/html": [
       "<div>\n",
       "<style scoped>\n",
       "    .dataframe tbody tr th:only-of-type {\n",
       "        vertical-align: middle;\n",
       "    }\n",
       "\n",
       "    .dataframe tbody tr th {\n",
       "        vertical-align: top;\n",
       "    }\n",
       "\n",
       "    .dataframe thead th {\n",
       "        text-align: right;\n",
       "    }\n",
       "</style>\n",
       "<table border=\"1\" class=\"dataframe\">\n",
       "  <thead>\n",
       "    <tr style=\"text-align: right;\">\n",
       "      <th></th>\n",
       "      <th>PassengerId</th>\n",
       "      <th>Survived</th>\n",
       "      <th>Pclass</th>\n",
       "      <th>Name</th>\n",
       "      <th>Sex</th>\n",
       "      <th>Age</th>\n",
       "      <th>SibSp</th>\n",
       "      <th>Parch</th>\n",
       "      <th>Ticket</th>\n",
       "      <th>Fare</th>\n",
       "      <th>Cabin</th>\n",
       "      <th>Embarked</th>\n",
       "    </tr>\n",
       "  </thead>\n",
       "  <tbody>\n",
       "    <tr>\n",
       "      <th>7</th>\n",
       "      <td>8</td>\n",
       "      <td>0</td>\n",
       "      <td>3</td>\n",
       "      <td>Palsson, Master. Gosta Leonard</td>\n",
       "      <td>male</td>\n",
       "      <td>2.0</td>\n",
       "      <td>3</td>\n",
       "      <td>1</td>\n",
       "      <td>349909</td>\n",
       "      <td>21.0750</td>\n",
       "      <td>NaN</td>\n",
       "      <td>S</td>\n",
       "    </tr>\n",
       "    <tr>\n",
       "      <th>9</th>\n",
       "      <td>10</td>\n",
       "      <td>1</td>\n",
       "      <td>2</td>\n",
       "      <td>Nasser, Mrs. Nicholas (Adele Achem)</td>\n",
       "      <td>female</td>\n",
       "      <td>14.0</td>\n",
       "      <td>1</td>\n",
       "      <td>0</td>\n",
       "      <td>237736</td>\n",
       "      <td>30.0708</td>\n",
       "      <td>NaN</td>\n",
       "      <td>C</td>\n",
       "    </tr>\n",
       "    <tr>\n",
       "      <th>10</th>\n",
       "      <td>11</td>\n",
       "      <td>1</td>\n",
       "      <td>3</td>\n",
       "      <td>Sandstrom, Miss. Marguerite Rut</td>\n",
       "      <td>female</td>\n",
       "      <td>4.0</td>\n",
       "      <td>1</td>\n",
       "      <td>1</td>\n",
       "      <td>PP 9549</td>\n",
       "      <td>16.7000</td>\n",
       "      <td>G6</td>\n",
       "      <td>S</td>\n",
       "    </tr>\n",
       "    <tr>\n",
       "      <th>14</th>\n",
       "      <td>15</td>\n",
       "      <td>0</td>\n",
       "      <td>3</td>\n",
       "      <td>Vestrom, Miss. Hulda Amanda Adolfina</td>\n",
       "      <td>female</td>\n",
       "      <td>14.0</td>\n",
       "      <td>0</td>\n",
       "      <td>0</td>\n",
       "      <td>350406</td>\n",
       "      <td>7.8542</td>\n",
       "      <td>NaN</td>\n",
       "      <td>S</td>\n",
       "    </tr>\n",
       "    <tr>\n",
       "      <th>16</th>\n",
       "      <td>17</td>\n",
       "      <td>0</td>\n",
       "      <td>3</td>\n",
       "      <td>Rice, Master. Eugene</td>\n",
       "      <td>male</td>\n",
       "      <td>2.0</td>\n",
       "      <td>4</td>\n",
       "      <td>1</td>\n",
       "      <td>382652</td>\n",
       "      <td>29.1250</td>\n",
       "      <td>NaN</td>\n",
       "      <td>Q</td>\n",
       "    </tr>\n",
       "    <tr>\n",
       "      <th>...</th>\n",
       "      <td>...</td>\n",
       "      <td>...</td>\n",
       "      <td>...</td>\n",
       "      <td>...</td>\n",
       "      <td>...</td>\n",
       "      <td>...</td>\n",
       "      <td>...</td>\n",
       "      <td>...</td>\n",
       "      <td>...</td>\n",
       "      <td>...</td>\n",
       "      <td>...</td>\n",
       "      <td>...</td>\n",
       "    </tr>\n",
       "    <tr>\n",
       "      <th>850</th>\n",
       "      <td>851</td>\n",
       "      <td>0</td>\n",
       "      <td>3</td>\n",
       "      <td>Andersson, Master. Sigvard Harald Elias</td>\n",
       "      <td>male</td>\n",
       "      <td>4.0</td>\n",
       "      <td>4</td>\n",
       "      <td>2</td>\n",
       "      <td>347082</td>\n",
       "      <td>31.2750</td>\n",
       "      <td>NaN</td>\n",
       "      <td>S</td>\n",
       "    </tr>\n",
       "    <tr>\n",
       "      <th>852</th>\n",
       "      <td>853</td>\n",
       "      <td>0</td>\n",
       "      <td>3</td>\n",
       "      <td>Boulos, Miss. Nourelain</td>\n",
       "      <td>female</td>\n",
       "      <td>9.0</td>\n",
       "      <td>1</td>\n",
       "      <td>1</td>\n",
       "      <td>2678</td>\n",
       "      <td>15.2458</td>\n",
       "      <td>NaN</td>\n",
       "      <td>C</td>\n",
       "    </tr>\n",
       "    <tr>\n",
       "      <th>853</th>\n",
       "      <td>854</td>\n",
       "      <td>1</td>\n",
       "      <td>1</td>\n",
       "      <td>Lines, Miss. Mary Conover</td>\n",
       "      <td>female</td>\n",
       "      <td>16.0</td>\n",
       "      <td>0</td>\n",
       "      <td>1</td>\n",
       "      <td>PC 17592</td>\n",
       "      <td>39.4000</td>\n",
       "      <td>D28</td>\n",
       "      <td>S</td>\n",
       "    </tr>\n",
       "    <tr>\n",
       "      <th>869</th>\n",
       "      <td>870</td>\n",
       "      <td>1</td>\n",
       "      <td>3</td>\n",
       "      <td>Johnson, Master. Harold Theodor</td>\n",
       "      <td>male</td>\n",
       "      <td>4.0</td>\n",
       "      <td>1</td>\n",
       "      <td>1</td>\n",
       "      <td>347742</td>\n",
       "      <td>11.1333</td>\n",
       "      <td>NaN</td>\n",
       "      <td>S</td>\n",
       "    </tr>\n",
       "    <tr>\n",
       "      <th>875</th>\n",
       "      <td>876</td>\n",
       "      <td>1</td>\n",
       "      <td>3</td>\n",
       "      <td>Najib, Miss. Adele Kiamie \"Jane\"</td>\n",
       "      <td>female</td>\n",
       "      <td>15.0</td>\n",
       "      <td>0</td>\n",
       "      <td>0</td>\n",
       "      <td>2667</td>\n",
       "      <td>7.2250</td>\n",
       "      <td>NaN</td>\n",
       "      <td>C</td>\n",
       "    </tr>\n",
       "  </tbody>\n",
       "</table>\n",
       "<p>113 rows × 12 columns</p>\n",
       "</div>"
      ],
      "text/plain": [
       "     PassengerId  Survived  Pclass                                     Name  \\\n",
       "7              8         0       3           Palsson, Master. Gosta Leonard   \n",
       "9             10         1       2      Nasser, Mrs. Nicholas (Adele Achem)   \n",
       "10            11         1       3          Sandstrom, Miss. Marguerite Rut   \n",
       "14            15         0       3     Vestrom, Miss. Hulda Amanda Adolfina   \n",
       "16            17         0       3                     Rice, Master. Eugene   \n",
       "..           ...       ...     ...                                      ...   \n",
       "850          851         0       3  Andersson, Master. Sigvard Harald Elias   \n",
       "852          853         0       3                  Boulos, Miss. Nourelain   \n",
       "853          854         1       1                Lines, Miss. Mary Conover   \n",
       "869          870         1       3          Johnson, Master. Harold Theodor   \n",
       "875          876         1       3         Najib, Miss. Adele Kiamie \"Jane\"   \n",
       "\n",
       "        Sex   Age  SibSp  Parch    Ticket     Fare Cabin Embarked  \n",
       "7      male   2.0      3      1    349909  21.0750   NaN        S  \n",
       "9    female  14.0      1      0    237736  30.0708   NaN        C  \n",
       "10   female   4.0      1      1   PP 9549  16.7000    G6        S  \n",
       "14   female  14.0      0      0    350406   7.8542   NaN        S  \n",
       "16     male   2.0      4      1    382652  29.1250   NaN        Q  \n",
       "..      ...   ...    ...    ...       ...      ...   ...      ...  \n",
       "850    male   4.0      4      2    347082  31.2750   NaN        S  \n",
       "852  female   9.0      1      1      2678  15.2458   NaN        C  \n",
       "853  female  16.0      0      1  PC 17592  39.4000   D28        S  \n",
       "869    male   4.0      1      1    347742  11.1333   NaN        S  \n",
       "875  female  15.0      0      0      2667   7.2250   NaN        C  \n",
       "\n",
       "[113 rows x 12 columns]"
      ]
     },
     "execution_count": 18,
     "metadata": {},
     "output_type": "execute_result"
    }
   ],
   "source": [
    "# everyone with an Age value below 18 (NA are not considered)\n",
    "df[df[\"Age\"] < 18]"
   ]
  },
  {
   "cell_type": "code",
   "execution_count": null,
   "id": "035de36d",
   "metadata": {
    "slideshow": {
     "slide_type": "slide"
    }
   },
   "outputs": [],
   "source": [
    "# everyone with an Age value above or equal 18 (NA are NOT considered)\n",
    "df[df[\"Age\"] >= 18]"
   ]
  },
  {
   "cell_type": "code",
   "execution_count": null,
   "id": "e79693c8",
   "metadata": {
    "slideshow": {
     "slide_type": "slide"
    }
   },
   "outputs": [],
   "source": [
    "# everyone with an Age value NOT below 18 (NA are CONSIDERED!)\n",
    "df[~(df[\"Age\"] < 18)]"
   ]
  },
  {
   "cell_type": "markdown",
   "id": "daece572",
   "metadata": {
    "slideshow": {
     "slide_type": "slide"
    },
    "vscode": {
     "languageId": "plaintext"
    }
   },
   "source": [
    "***\n",
    "\n",
    "## MISSING VALUES"
   ]
  },
  {
   "cell_type": "markdown",
   "id": "9ba66b41",
   "metadata": {
    "slideshow": {
     "slide_type": "slide"
    }
   },
   "source": [
    "### Filtering out missing values (NaNs) with boolean conditions\n",
    "\n",
    "* `NaN` .... \"not a number\"\n",
    "* pandas functions: `.isna()` and `.notna()` (isna = is not available, notna = not not available)\n",
    "* Note, for pandas: \"not available\" (includes both `NaN` and `None`)"
   ]
  },
  {
   "cell_type": "code",
   "execution_count": null,
   "id": "5e5dde1f",
   "metadata": {
    "slideshow": {
     "slide_type": "slide"
    }
   },
   "outputs": [],
   "source": [
    "df.head()\n",
    "# in rows with index 0,2,4 the Cabin data is missing"
   ]
  },
  {
   "cell_type": "code",
   "execution_count": null,
   "id": "be67d050",
   "metadata": {
    "slideshow": {
     "slide_type": "slide"
    }
   },
   "outputs": [],
   "source": [
    "df[\"Cabin\"].isna()\n",
    "# returns for each row whether data is NOT AVAILABLE (True) or available (False)"
   ]
  },
  {
   "cell_type": "code",
   "execution_count": null,
   "id": "dac90d5e",
   "metadata": {
    "slideshow": {
     "slide_type": "slide"
    }
   },
   "outputs": [],
   "source": [
    "df[\"Cabin\"].notna()\n",
    "# returns for each row whether data is AVAILABLE (True) and not available (False)"
   ]
  },
  {
   "cell_type": "markdown",
   "id": "febe91b0",
   "metadata": {
    "slideshow": {
     "slide_type": "slide"
    }
   },
   "source": [
    "### How to use `isna` and `notna` to clean data?"
   ]
  },
  {
   "cell_type": "code",
   "execution_count": null,
   "id": "f0240e88",
   "metadata": {
    "slideshow": {
     "slide_type": "slide"
    }
   },
   "outputs": [],
   "source": [
    "# boolean indexing to only have rows where we know the Cabin value:\n",
    "my_condition = df[\"Cabin\"].notna()\n",
    "df[my_condition]\n",
    "# or, shorter: df[df[\"Cabin\"].notna()]"
   ]
  },
  {
   "cell_type": "code",
   "execution_count": null,
   "id": "c3d11e38",
   "metadata": {
    "slideshow": {
     "slide_type": "slide"
    }
   },
   "outputs": [],
   "source": [
    "# filter by available data in *both* Age and Cabin columns \n",
    "df[(df['Age'].notna()) & (df['Cabin'].notna())]"
   ]
  },
  {
   "cell_type": "code",
   "execution_count": null,
   "id": "1b9c15f4",
   "metadata": {
    "slideshow": {
     "slide_type": "slide"
    }
   },
   "outputs": [],
   "source": [
    "# calling notna on entire dataframe:\n",
    "df.notna()"
   ]
  },
  {
   "cell_type": "markdown",
   "id": "3d21b918",
   "metadata": {
    "slideshow": {
     "slide_type": "slide"
    }
   },
   "source": [
    "### What if we don't want missing data ANYwhere?\n",
    "\n",
    "`.dropna()`\n",
    "\n",
    "has the optional parameter `axis`, default=0"
   ]
  },
  {
   "cell_type": "code",
   "execution_count": null,
   "id": "946d46db",
   "metadata": {
    "slideshow": {
     "slide_type": "slide"
    }
   },
   "outputs": [],
   "source": [
    "# calling docstring for help! Note we have to spell out the object\n",
    "# that the dropna method is applied to:\n",
    "#?dropna # doesn't work\n",
    "#?pd.dropna # doesn't work\n",
    "?pd.DataFrame.dropna \n",
    "# works!"
   ]
  },
  {
   "cell_type": "code",
   "execution_count": null,
   "id": "3713044c",
   "metadata": {
    "slideshow": {
     "slide_type": "slide"
    }
   },
   "outputs": [],
   "source": [
    "df.dropna() # drops all ROWS with missing values (in ANY of the columns)"
   ]
  },
  {
   "cell_type": "code",
   "execution_count": null,
   "id": "7e7efbbc",
   "metadata": {
    "slideshow": {
     "slide_type": "slide"
    }
   },
   "outputs": [],
   "source": [
    "df.dropna(axis=0) # drops all ROWS with missing values (in ANY of the columns) \n",
    "# (same as cell before; axis=0 is default value of optional parameter \"axis\")"
   ]
  },
  {
   "cell_type": "code",
   "execution_count": null,
   "id": "9b4ed48d",
   "metadata": {
    "slideshow": {
     "slide_type": "slide"
    }
   },
   "outputs": [],
   "source": [
    "df.dropna(axis=1) # drops all COLUMNS with missing values (in ANY of the rows)"
   ]
  },
  {
   "cell_type": "markdown",
   "id": "17b0b602",
   "metadata": {
    "slideshow": {
     "slide_type": "slide"
    }
   },
   "source": [
    "# How to *replace* missing values?\n",
    "\n",
    "rather than dropping entire rows/columns...\n",
    "\n",
    "`.fillna()`"
   ]
  },
  {
   "cell_type": "code",
   "execution_count": 19,
   "id": "54309a39",
   "metadata": {
    "slideshow": {
     "slide_type": "slide"
    }
   },
   "outputs": [
    {
     "data": {
      "application/vnd.microsoft.datawrangler.viewer.v0+json": {
       "columns": [
        {
         "name": "index",
         "rawType": "int64",
         "type": "integer"
        },
        {
         "name": "PassengerId",
         "rawType": "int64",
         "type": "integer"
        },
        {
         "name": "Survived",
         "rawType": "int64",
         "type": "integer"
        },
        {
         "name": "Pclass",
         "rawType": "int64",
         "type": "integer"
        },
        {
         "name": "Name",
         "rawType": "object",
         "type": "string"
        },
        {
         "name": "Sex",
         "rawType": "object",
         "type": "string"
        },
        {
         "name": "Age",
         "rawType": "float64",
         "type": "float"
        },
        {
         "name": "SibSp",
         "rawType": "int64",
         "type": "integer"
        },
        {
         "name": "Parch",
         "rawType": "int64",
         "type": "integer"
        },
        {
         "name": "Ticket",
         "rawType": "object",
         "type": "string"
        },
        {
         "name": "Fare",
         "rawType": "float64",
         "type": "float"
        },
        {
         "name": "Cabin",
         "rawType": "object",
         "type": "unknown"
        },
        {
         "name": "Embarked",
         "rawType": "object",
         "type": "unknown"
        }
       ],
       "ref": "9b592e61-0ead-4eba-92f4-3e2a3e9f573a",
       "rows": [
        [
         "0",
         "1",
         "0",
         "3",
         "Braund, Mr. Owen Harris",
         "male",
         "22.0",
         "1",
         "0",
         "A/5 21171",
         "7.25",
         "0",
         "S"
        ],
        [
         "1",
         "2",
         "1",
         "1",
         "Cumings, Mrs. John Bradley (Florence Briggs Thayer)",
         "female",
         "38.0",
         "1",
         "0",
         "PC 17599",
         "71.2833",
         "C85",
         "C"
        ],
        [
         "2",
         "3",
         "1",
         "3",
         "Heikkinen, Miss. Laina",
         "female",
         "26.0",
         "0",
         "0",
         "STON/O2. 3101282",
         "7.925",
         "0",
         "S"
        ],
        [
         "3",
         "4",
         "1",
         "1",
         "Futrelle, Mrs. Jacques Heath (Lily May Peel)",
         "female",
         "35.0",
         "1",
         "0",
         "113803",
         "53.1",
         "C123",
         "S"
        ],
        [
         "4",
         "5",
         "0",
         "3",
         "Allen, Mr. William Henry",
         "male",
         "35.0",
         "0",
         "0",
         "373450",
         "8.05",
         "0",
         "S"
        ],
        [
         "5",
         "6",
         "0",
         "3",
         "Moran, Mr. James",
         "male",
         "0.0",
         "0",
         "0",
         "330877",
         "8.4583",
         "0",
         "Q"
        ],
        [
         "6",
         "7",
         "0",
         "1",
         "McCarthy, Mr. Timothy J",
         "male",
         "54.0",
         "0",
         "0",
         "17463",
         "51.8625",
         "E46",
         "S"
        ],
        [
         "7",
         "8",
         "0",
         "3",
         "Palsson, Master. Gosta Leonard",
         "male",
         "2.0",
         "3",
         "1",
         "349909",
         "21.075",
         "0",
         "S"
        ],
        [
         "8",
         "9",
         "1",
         "3",
         "Johnson, Mrs. Oscar W (Elisabeth Vilhelmina Berg)",
         "female",
         "27.0",
         "0",
         "2",
         "347742",
         "11.1333",
         "0",
         "S"
        ],
        [
         "9",
         "10",
         "1",
         "2",
         "Nasser, Mrs. Nicholas (Adele Achem)",
         "female",
         "14.0",
         "1",
         "0",
         "237736",
         "30.0708",
         "0",
         "C"
        ],
        [
         "10",
         "11",
         "1",
         "3",
         "Sandstrom, Miss. Marguerite Rut",
         "female",
         "4.0",
         "1",
         "1",
         "PP 9549",
         "16.7",
         "G6",
         "S"
        ],
        [
         "11",
         "12",
         "1",
         "1",
         "Bonnell, Miss. Elizabeth",
         "female",
         "58.0",
         "0",
         "0",
         "113783",
         "26.55",
         "C103",
         "S"
        ],
        [
         "12",
         "13",
         "0",
         "3",
         "Saundercock, Mr. William Henry",
         "male",
         "20.0",
         "0",
         "0",
         "A/5. 2151",
         "8.05",
         "0",
         "S"
        ],
        [
         "13",
         "14",
         "0",
         "3",
         "Andersson, Mr. Anders Johan",
         "male",
         "39.0",
         "1",
         "5",
         "347082",
         "31.275",
         "0",
         "S"
        ],
        [
         "14",
         "15",
         "0",
         "3",
         "Vestrom, Miss. Hulda Amanda Adolfina",
         "female",
         "14.0",
         "0",
         "0",
         "350406",
         "7.8542",
         "0",
         "S"
        ],
        [
         "15",
         "16",
         "1",
         "2",
         "Hewlett, Mrs. (Mary D Kingcome) ",
         "female",
         "55.0",
         "0",
         "0",
         "248706",
         "16.0",
         "0",
         "S"
        ],
        [
         "16",
         "17",
         "0",
         "3",
         "Rice, Master. Eugene",
         "male",
         "2.0",
         "4",
         "1",
         "382652",
         "29.125",
         "0",
         "Q"
        ],
        [
         "17",
         "18",
         "1",
         "2",
         "Williams, Mr. Charles Eugene",
         "male",
         "0.0",
         "0",
         "0",
         "244373",
         "13.0",
         "0",
         "S"
        ],
        [
         "18",
         "19",
         "0",
         "3",
         "Vander Planke, Mrs. Julius (Emelia Maria Vandemoortele)",
         "female",
         "31.0",
         "1",
         "0",
         "345763",
         "18.0",
         "0",
         "S"
        ],
        [
         "19",
         "20",
         "1",
         "3",
         "Masselmani, Mrs. Fatima",
         "female",
         "0.0",
         "0",
         "0",
         "2649",
         "7.225",
         "0",
         "C"
        ],
        [
         "20",
         "21",
         "0",
         "2",
         "Fynney, Mr. Joseph J",
         "male",
         "35.0",
         "0",
         "0",
         "239865",
         "26.0",
         "0",
         "S"
        ],
        [
         "21",
         "22",
         "1",
         "2",
         "Beesley, Mr. Lawrence",
         "male",
         "34.0",
         "0",
         "0",
         "248698",
         "13.0",
         "D56",
         "S"
        ],
        [
         "22",
         "23",
         "1",
         "3",
         "McGowan, Miss. Anna \"Annie\"",
         "female",
         "15.0",
         "0",
         "0",
         "330923",
         "8.0292",
         "0",
         "Q"
        ],
        [
         "23",
         "24",
         "1",
         "1",
         "Sloper, Mr. William Thompson",
         "male",
         "28.0",
         "0",
         "0",
         "113788",
         "35.5",
         "A6",
         "S"
        ],
        [
         "24",
         "25",
         "0",
         "3",
         "Palsson, Miss. Torborg Danira",
         "female",
         "8.0",
         "3",
         "1",
         "349909",
         "21.075",
         "0",
         "S"
        ],
        [
         "25",
         "26",
         "1",
         "3",
         "Asplund, Mrs. Carl Oscar (Selma Augusta Emilia Johansson)",
         "female",
         "38.0",
         "1",
         "5",
         "347077",
         "31.3875",
         "0",
         "S"
        ],
        [
         "26",
         "27",
         "0",
         "3",
         "Emir, Mr. Farred Chehab",
         "male",
         "0.0",
         "0",
         "0",
         "2631",
         "7.225",
         "0",
         "C"
        ],
        [
         "27",
         "28",
         "0",
         "1",
         "Fortune, Mr. Charles Alexander",
         "male",
         "19.0",
         "3",
         "2",
         "19950",
         "263.0",
         "C23 C25 C27",
         "S"
        ],
        [
         "28",
         "29",
         "1",
         "3",
         "O'Dwyer, Miss. Ellen \"Nellie\"",
         "female",
         "0.0",
         "0",
         "0",
         "330959",
         "7.8792",
         "0",
         "Q"
        ],
        [
         "29",
         "30",
         "0",
         "3",
         "Todoroff, Mr. Lalio",
         "male",
         "0.0",
         "0",
         "0",
         "349216",
         "7.8958",
         "0",
         "S"
        ],
        [
         "30",
         "31",
         "0",
         "1",
         "Uruchurtu, Don. Manuel E",
         "male",
         "40.0",
         "0",
         "0",
         "PC 17601",
         "27.7208",
         "0",
         "C"
        ],
        [
         "31",
         "32",
         "1",
         "1",
         "Spencer, Mrs. William Augustus (Marie Eugenie)",
         "female",
         "0.0",
         "1",
         "0",
         "PC 17569",
         "146.5208",
         "B78",
         "C"
        ],
        [
         "32",
         "33",
         "1",
         "3",
         "Glynn, Miss. Mary Agatha",
         "female",
         "0.0",
         "0",
         "0",
         "335677",
         "7.75",
         "0",
         "Q"
        ],
        [
         "33",
         "34",
         "0",
         "2",
         "Wheadon, Mr. Edward H",
         "male",
         "66.0",
         "0",
         "0",
         "C.A. 24579",
         "10.5",
         "0",
         "S"
        ],
        [
         "34",
         "35",
         "0",
         "1",
         "Meyer, Mr. Edgar Joseph",
         "male",
         "28.0",
         "1",
         "0",
         "PC 17604",
         "82.1708",
         "0",
         "C"
        ],
        [
         "35",
         "36",
         "0",
         "1",
         "Holverson, Mr. Alexander Oskar",
         "male",
         "42.0",
         "1",
         "0",
         "113789",
         "52.0",
         "0",
         "S"
        ],
        [
         "36",
         "37",
         "1",
         "3",
         "Mamee, Mr. Hanna",
         "male",
         "0.0",
         "0",
         "0",
         "2677",
         "7.2292",
         "0",
         "C"
        ],
        [
         "37",
         "38",
         "0",
         "3",
         "Cann, Mr. Ernest Charles",
         "male",
         "21.0",
         "0",
         "0",
         "A./5. 2152",
         "8.05",
         "0",
         "S"
        ],
        [
         "38",
         "39",
         "0",
         "3",
         "Vander Planke, Miss. Augusta Maria",
         "female",
         "18.0",
         "2",
         "0",
         "345764",
         "18.0",
         "0",
         "S"
        ],
        [
         "39",
         "40",
         "1",
         "3",
         "Nicola-Yarred, Miss. Jamila",
         "female",
         "14.0",
         "1",
         "0",
         "2651",
         "11.2417",
         "0",
         "C"
        ],
        [
         "40",
         "41",
         "0",
         "3",
         "Ahlin, Mrs. Johan (Johanna Persdotter Larsson)",
         "female",
         "40.0",
         "1",
         "0",
         "7546",
         "9.475",
         "0",
         "S"
        ],
        [
         "41",
         "42",
         "0",
         "2",
         "Turpin, Mrs. William John Robert (Dorothy Ann Wonnacott)",
         "female",
         "27.0",
         "1",
         "0",
         "11668",
         "21.0",
         "0",
         "S"
        ],
        [
         "42",
         "43",
         "0",
         "3",
         "Kraeff, Mr. Theodor",
         "male",
         "0.0",
         "0",
         "0",
         "349253",
         "7.8958",
         "0",
         "C"
        ],
        [
         "43",
         "44",
         "1",
         "2",
         "Laroche, Miss. Simonne Marie Anne Andree",
         "female",
         "3.0",
         "1",
         "2",
         "SC/Paris 2123",
         "41.5792",
         "0",
         "C"
        ],
        [
         "44",
         "45",
         "1",
         "3",
         "Devaney, Miss. Margaret Delia",
         "female",
         "19.0",
         "0",
         "0",
         "330958",
         "7.8792",
         "0",
         "Q"
        ],
        [
         "45",
         "46",
         "0",
         "3",
         "Rogers, Mr. William John",
         "male",
         "0.0",
         "0",
         "0",
         "S.C./A.4. 23567",
         "8.05",
         "0",
         "S"
        ],
        [
         "46",
         "47",
         "0",
         "3",
         "Lennon, Mr. Denis",
         "male",
         "0.0",
         "1",
         "0",
         "370371",
         "15.5",
         "0",
         "Q"
        ],
        [
         "47",
         "48",
         "1",
         "3",
         "O'Driscoll, Miss. Bridget",
         "female",
         "0.0",
         "0",
         "0",
         "14311",
         "7.75",
         "0",
         "Q"
        ],
        [
         "48",
         "49",
         "0",
         "3",
         "Samaan, Mr. Youssef",
         "male",
         "0.0",
         "2",
         "0",
         "2662",
         "21.6792",
         "0",
         "C"
        ],
        [
         "49",
         "50",
         "0",
         "3",
         "Arnold-Franchi, Mrs. Josef (Josefine Franchi)",
         "female",
         "18.0",
         "1",
         "0",
         "349237",
         "17.8",
         "0",
         "S"
        ]
       ],
       "shape": {
        "columns": 12,
        "rows": 891
       }
      },
      "text/html": [
       "<div>\n",
       "<style scoped>\n",
       "    .dataframe tbody tr th:only-of-type {\n",
       "        vertical-align: middle;\n",
       "    }\n",
       "\n",
       "    .dataframe tbody tr th {\n",
       "        vertical-align: top;\n",
       "    }\n",
       "\n",
       "    .dataframe thead th {\n",
       "        text-align: right;\n",
       "    }\n",
       "</style>\n",
       "<table border=\"1\" class=\"dataframe\">\n",
       "  <thead>\n",
       "    <tr style=\"text-align: right;\">\n",
       "      <th></th>\n",
       "      <th>PassengerId</th>\n",
       "      <th>Survived</th>\n",
       "      <th>Pclass</th>\n",
       "      <th>Name</th>\n",
       "      <th>Sex</th>\n",
       "      <th>Age</th>\n",
       "      <th>SibSp</th>\n",
       "      <th>Parch</th>\n",
       "      <th>Ticket</th>\n",
       "      <th>Fare</th>\n",
       "      <th>Cabin</th>\n",
       "      <th>Embarked</th>\n",
       "    </tr>\n",
       "  </thead>\n",
       "  <tbody>\n",
       "    <tr>\n",
       "      <th>0</th>\n",
       "      <td>1</td>\n",
       "      <td>0</td>\n",
       "      <td>3</td>\n",
       "      <td>Braund, Mr. Owen Harris</td>\n",
       "      <td>male</td>\n",
       "      <td>22.0</td>\n",
       "      <td>1</td>\n",
       "      <td>0</td>\n",
       "      <td>A/5 21171</td>\n",
       "      <td>7.2500</td>\n",
       "      <td>0</td>\n",
       "      <td>S</td>\n",
       "    </tr>\n",
       "    <tr>\n",
       "      <th>1</th>\n",
       "      <td>2</td>\n",
       "      <td>1</td>\n",
       "      <td>1</td>\n",
       "      <td>Cumings, Mrs. John Bradley (Florence Briggs Th...</td>\n",
       "      <td>female</td>\n",
       "      <td>38.0</td>\n",
       "      <td>1</td>\n",
       "      <td>0</td>\n",
       "      <td>PC 17599</td>\n",
       "      <td>71.2833</td>\n",
       "      <td>C85</td>\n",
       "      <td>C</td>\n",
       "    </tr>\n",
       "    <tr>\n",
       "      <th>2</th>\n",
       "      <td>3</td>\n",
       "      <td>1</td>\n",
       "      <td>3</td>\n",
       "      <td>Heikkinen, Miss. Laina</td>\n",
       "      <td>female</td>\n",
       "      <td>26.0</td>\n",
       "      <td>0</td>\n",
       "      <td>0</td>\n",
       "      <td>STON/O2. 3101282</td>\n",
       "      <td>7.9250</td>\n",
       "      <td>0</td>\n",
       "      <td>S</td>\n",
       "    </tr>\n",
       "    <tr>\n",
       "      <th>3</th>\n",
       "      <td>4</td>\n",
       "      <td>1</td>\n",
       "      <td>1</td>\n",
       "      <td>Futrelle, Mrs. Jacques Heath (Lily May Peel)</td>\n",
       "      <td>female</td>\n",
       "      <td>35.0</td>\n",
       "      <td>1</td>\n",
       "      <td>0</td>\n",
       "      <td>113803</td>\n",
       "      <td>53.1000</td>\n",
       "      <td>C123</td>\n",
       "      <td>S</td>\n",
       "    </tr>\n",
       "    <tr>\n",
       "      <th>4</th>\n",
       "      <td>5</td>\n",
       "      <td>0</td>\n",
       "      <td>3</td>\n",
       "      <td>Allen, Mr. William Henry</td>\n",
       "      <td>male</td>\n",
       "      <td>35.0</td>\n",
       "      <td>0</td>\n",
       "      <td>0</td>\n",
       "      <td>373450</td>\n",
       "      <td>8.0500</td>\n",
       "      <td>0</td>\n",
       "      <td>S</td>\n",
       "    </tr>\n",
       "    <tr>\n",
       "      <th>...</th>\n",
       "      <td>...</td>\n",
       "      <td>...</td>\n",
       "      <td>...</td>\n",
       "      <td>...</td>\n",
       "      <td>...</td>\n",
       "      <td>...</td>\n",
       "      <td>...</td>\n",
       "      <td>...</td>\n",
       "      <td>...</td>\n",
       "      <td>...</td>\n",
       "      <td>...</td>\n",
       "      <td>...</td>\n",
       "    </tr>\n",
       "    <tr>\n",
       "      <th>886</th>\n",
       "      <td>887</td>\n",
       "      <td>0</td>\n",
       "      <td>2</td>\n",
       "      <td>Montvila, Rev. Juozas</td>\n",
       "      <td>male</td>\n",
       "      <td>27.0</td>\n",
       "      <td>0</td>\n",
       "      <td>0</td>\n",
       "      <td>211536</td>\n",
       "      <td>13.0000</td>\n",
       "      <td>0</td>\n",
       "      <td>S</td>\n",
       "    </tr>\n",
       "    <tr>\n",
       "      <th>887</th>\n",
       "      <td>888</td>\n",
       "      <td>1</td>\n",
       "      <td>1</td>\n",
       "      <td>Graham, Miss. Margaret Edith</td>\n",
       "      <td>female</td>\n",
       "      <td>19.0</td>\n",
       "      <td>0</td>\n",
       "      <td>0</td>\n",
       "      <td>112053</td>\n",
       "      <td>30.0000</td>\n",
       "      <td>B42</td>\n",
       "      <td>S</td>\n",
       "    </tr>\n",
       "    <tr>\n",
       "      <th>888</th>\n",
       "      <td>889</td>\n",
       "      <td>0</td>\n",
       "      <td>3</td>\n",
       "      <td>Johnston, Miss. Catherine Helen \"Carrie\"</td>\n",
       "      <td>female</td>\n",
       "      <td>0.0</td>\n",
       "      <td>1</td>\n",
       "      <td>2</td>\n",
       "      <td>W./C. 6607</td>\n",
       "      <td>23.4500</td>\n",
       "      <td>0</td>\n",
       "      <td>S</td>\n",
       "    </tr>\n",
       "    <tr>\n",
       "      <th>889</th>\n",
       "      <td>890</td>\n",
       "      <td>1</td>\n",
       "      <td>1</td>\n",
       "      <td>Behr, Mr. Karl Howell</td>\n",
       "      <td>male</td>\n",
       "      <td>26.0</td>\n",
       "      <td>0</td>\n",
       "      <td>0</td>\n",
       "      <td>111369</td>\n",
       "      <td>30.0000</td>\n",
       "      <td>C148</td>\n",
       "      <td>C</td>\n",
       "    </tr>\n",
       "    <tr>\n",
       "      <th>890</th>\n",
       "      <td>891</td>\n",
       "      <td>0</td>\n",
       "      <td>3</td>\n",
       "      <td>Dooley, Mr. Patrick</td>\n",
       "      <td>male</td>\n",
       "      <td>32.0</td>\n",
       "      <td>0</td>\n",
       "      <td>0</td>\n",
       "      <td>370376</td>\n",
       "      <td>7.7500</td>\n",
       "      <td>0</td>\n",
       "      <td>Q</td>\n",
       "    </tr>\n",
       "  </tbody>\n",
       "</table>\n",
       "<p>891 rows × 12 columns</p>\n",
       "</div>"
      ],
      "text/plain": [
       "     PassengerId  Survived  Pclass  \\\n",
       "0              1         0       3   \n",
       "1              2         1       1   \n",
       "2              3         1       3   \n",
       "3              4         1       1   \n",
       "4              5         0       3   \n",
       "..           ...       ...     ...   \n",
       "886          887         0       2   \n",
       "887          888         1       1   \n",
       "888          889         0       3   \n",
       "889          890         1       1   \n",
       "890          891         0       3   \n",
       "\n",
       "                                                  Name     Sex   Age  SibSp  \\\n",
       "0                              Braund, Mr. Owen Harris    male  22.0      1   \n",
       "1    Cumings, Mrs. John Bradley (Florence Briggs Th...  female  38.0      1   \n",
       "2                               Heikkinen, Miss. Laina  female  26.0      0   \n",
       "3         Futrelle, Mrs. Jacques Heath (Lily May Peel)  female  35.0      1   \n",
       "4                             Allen, Mr. William Henry    male  35.0      0   \n",
       "..                                                 ...     ...   ...    ...   \n",
       "886                              Montvila, Rev. Juozas    male  27.0      0   \n",
       "887                       Graham, Miss. Margaret Edith  female  19.0      0   \n",
       "888           Johnston, Miss. Catherine Helen \"Carrie\"  female   0.0      1   \n",
       "889                              Behr, Mr. Karl Howell    male  26.0      0   \n",
       "890                                Dooley, Mr. Patrick    male  32.0      0   \n",
       "\n",
       "     Parch            Ticket     Fare Cabin Embarked  \n",
       "0        0         A/5 21171   7.2500     0        S  \n",
       "1        0          PC 17599  71.2833   C85        C  \n",
       "2        0  STON/O2. 3101282   7.9250     0        S  \n",
       "3        0            113803  53.1000  C123        S  \n",
       "4        0            373450   8.0500     0        S  \n",
       "..     ...               ...      ...   ...      ...  \n",
       "886      0            211536  13.0000     0        S  \n",
       "887      0            112053  30.0000   B42        S  \n",
       "888      2        W./C. 6607  23.4500     0        S  \n",
       "889      0            111369  30.0000  C148        C  \n",
       "890      0            370376   7.7500     0        Q  \n",
       "\n",
       "[891 rows x 12 columns]"
      ]
     },
     "execution_count": 19,
     "metadata": {},
     "output_type": "execute_result"
    }
   ],
   "source": [
    "df.fillna(0)"
   ]
  },
  {
   "cell_type": "code",
   "execution_count": 20,
   "id": "5803d24b",
   "metadata": {
    "slideshow": {
     "slide_type": "slide"
    }
   },
   "outputs": [
    {
     "data": {
      "application/vnd.microsoft.datawrangler.viewer.v0+json": {
       "columns": [
        {
         "name": "index",
         "rawType": "int64",
         "type": "integer"
        },
        {
         "name": "PassengerId",
         "rawType": "int64",
         "type": "integer"
        },
        {
         "name": "Survived",
         "rawType": "int64",
         "type": "integer"
        },
        {
         "name": "Pclass",
         "rawType": "int64",
         "type": "integer"
        },
        {
         "name": "Name",
         "rawType": "object",
         "type": "string"
        },
        {
         "name": "Sex",
         "rawType": "object",
         "type": "string"
        },
        {
         "name": "Age",
         "rawType": "object",
         "type": "unknown"
        },
        {
         "name": "SibSp",
         "rawType": "int64",
         "type": "integer"
        },
        {
         "name": "Parch",
         "rawType": "int64",
         "type": "integer"
        },
        {
         "name": "Ticket",
         "rawType": "object",
         "type": "string"
        },
        {
         "name": "Fare",
         "rawType": "float64",
         "type": "float"
        },
        {
         "name": "Cabin",
         "rawType": "object",
         "type": "string"
        },
        {
         "name": "Embarked",
         "rawType": "object",
         "type": "string"
        }
       ],
       "ref": "c15d9059-b049-4c62-afaa-3a4eca21e38e",
       "rows": [
        [
         "0",
         "1",
         "0",
         "3",
         "Braund, Mr. Owen Harris",
         "male",
         "22.0",
         "1",
         "0",
         "A/5 21171",
         "7.25",
         "no-info",
         "S"
        ],
        [
         "1",
         "2",
         "1",
         "1",
         "Cumings, Mrs. John Bradley (Florence Briggs Thayer)",
         "female",
         "38.0",
         "1",
         "0",
         "PC 17599",
         "71.2833",
         "C85",
         "C"
        ],
        [
         "2",
         "3",
         "1",
         "3",
         "Heikkinen, Miss. Laina",
         "female",
         "26.0",
         "0",
         "0",
         "STON/O2. 3101282",
         "7.925",
         "no-info",
         "S"
        ],
        [
         "3",
         "4",
         "1",
         "1",
         "Futrelle, Mrs. Jacques Heath (Lily May Peel)",
         "female",
         "35.0",
         "1",
         "0",
         "113803",
         "53.1",
         "C123",
         "S"
        ],
        [
         "4",
         "5",
         "0",
         "3",
         "Allen, Mr. William Henry",
         "male",
         "35.0",
         "0",
         "0",
         "373450",
         "8.05",
         "no-info",
         "S"
        ],
        [
         "5",
         "6",
         "0",
         "3",
         "Moran, Mr. James",
         "male",
         "no-info",
         "0",
         "0",
         "330877",
         "8.4583",
         "no-info",
         "Q"
        ],
        [
         "6",
         "7",
         "0",
         "1",
         "McCarthy, Mr. Timothy J",
         "male",
         "54.0",
         "0",
         "0",
         "17463",
         "51.8625",
         "E46",
         "S"
        ],
        [
         "7",
         "8",
         "0",
         "3",
         "Palsson, Master. Gosta Leonard",
         "male",
         "2.0",
         "3",
         "1",
         "349909",
         "21.075",
         "no-info",
         "S"
        ],
        [
         "8",
         "9",
         "1",
         "3",
         "Johnson, Mrs. Oscar W (Elisabeth Vilhelmina Berg)",
         "female",
         "27.0",
         "0",
         "2",
         "347742",
         "11.1333",
         "no-info",
         "S"
        ],
        [
         "9",
         "10",
         "1",
         "2",
         "Nasser, Mrs. Nicholas (Adele Achem)",
         "female",
         "14.0",
         "1",
         "0",
         "237736",
         "30.0708",
         "no-info",
         "C"
        ],
        [
         "10",
         "11",
         "1",
         "3",
         "Sandstrom, Miss. Marguerite Rut",
         "female",
         "4.0",
         "1",
         "1",
         "PP 9549",
         "16.7",
         "G6",
         "S"
        ],
        [
         "11",
         "12",
         "1",
         "1",
         "Bonnell, Miss. Elizabeth",
         "female",
         "58.0",
         "0",
         "0",
         "113783",
         "26.55",
         "C103",
         "S"
        ],
        [
         "12",
         "13",
         "0",
         "3",
         "Saundercock, Mr. William Henry",
         "male",
         "20.0",
         "0",
         "0",
         "A/5. 2151",
         "8.05",
         "no-info",
         "S"
        ],
        [
         "13",
         "14",
         "0",
         "3",
         "Andersson, Mr. Anders Johan",
         "male",
         "39.0",
         "1",
         "5",
         "347082",
         "31.275",
         "no-info",
         "S"
        ],
        [
         "14",
         "15",
         "0",
         "3",
         "Vestrom, Miss. Hulda Amanda Adolfina",
         "female",
         "14.0",
         "0",
         "0",
         "350406",
         "7.8542",
         "no-info",
         "S"
        ],
        [
         "15",
         "16",
         "1",
         "2",
         "Hewlett, Mrs. (Mary D Kingcome) ",
         "female",
         "55.0",
         "0",
         "0",
         "248706",
         "16.0",
         "no-info",
         "S"
        ],
        [
         "16",
         "17",
         "0",
         "3",
         "Rice, Master. Eugene",
         "male",
         "2.0",
         "4",
         "1",
         "382652",
         "29.125",
         "no-info",
         "Q"
        ],
        [
         "17",
         "18",
         "1",
         "2",
         "Williams, Mr. Charles Eugene",
         "male",
         "no-info",
         "0",
         "0",
         "244373",
         "13.0",
         "no-info",
         "S"
        ],
        [
         "18",
         "19",
         "0",
         "3",
         "Vander Planke, Mrs. Julius (Emelia Maria Vandemoortele)",
         "female",
         "31.0",
         "1",
         "0",
         "345763",
         "18.0",
         "no-info",
         "S"
        ],
        [
         "19",
         "20",
         "1",
         "3",
         "Masselmani, Mrs. Fatima",
         "female",
         "no-info",
         "0",
         "0",
         "2649",
         "7.225",
         "no-info",
         "C"
        ],
        [
         "20",
         "21",
         "0",
         "2",
         "Fynney, Mr. Joseph J",
         "male",
         "35.0",
         "0",
         "0",
         "239865",
         "26.0",
         "no-info",
         "S"
        ],
        [
         "21",
         "22",
         "1",
         "2",
         "Beesley, Mr. Lawrence",
         "male",
         "34.0",
         "0",
         "0",
         "248698",
         "13.0",
         "D56",
         "S"
        ],
        [
         "22",
         "23",
         "1",
         "3",
         "McGowan, Miss. Anna \"Annie\"",
         "female",
         "15.0",
         "0",
         "0",
         "330923",
         "8.0292",
         "no-info",
         "Q"
        ],
        [
         "23",
         "24",
         "1",
         "1",
         "Sloper, Mr. William Thompson",
         "male",
         "28.0",
         "0",
         "0",
         "113788",
         "35.5",
         "A6",
         "S"
        ],
        [
         "24",
         "25",
         "0",
         "3",
         "Palsson, Miss. Torborg Danira",
         "female",
         "8.0",
         "3",
         "1",
         "349909",
         "21.075",
         "no-info",
         "S"
        ],
        [
         "25",
         "26",
         "1",
         "3",
         "Asplund, Mrs. Carl Oscar (Selma Augusta Emilia Johansson)",
         "female",
         "38.0",
         "1",
         "5",
         "347077",
         "31.3875",
         "no-info",
         "S"
        ],
        [
         "26",
         "27",
         "0",
         "3",
         "Emir, Mr. Farred Chehab",
         "male",
         "no-info",
         "0",
         "0",
         "2631",
         "7.225",
         "no-info",
         "C"
        ],
        [
         "27",
         "28",
         "0",
         "1",
         "Fortune, Mr. Charles Alexander",
         "male",
         "19.0",
         "3",
         "2",
         "19950",
         "263.0",
         "C23 C25 C27",
         "S"
        ],
        [
         "28",
         "29",
         "1",
         "3",
         "O'Dwyer, Miss. Ellen \"Nellie\"",
         "female",
         "no-info",
         "0",
         "0",
         "330959",
         "7.8792",
         "no-info",
         "Q"
        ],
        [
         "29",
         "30",
         "0",
         "3",
         "Todoroff, Mr. Lalio",
         "male",
         "no-info",
         "0",
         "0",
         "349216",
         "7.8958",
         "no-info",
         "S"
        ],
        [
         "30",
         "31",
         "0",
         "1",
         "Uruchurtu, Don. Manuel E",
         "male",
         "40.0",
         "0",
         "0",
         "PC 17601",
         "27.7208",
         "no-info",
         "C"
        ],
        [
         "31",
         "32",
         "1",
         "1",
         "Spencer, Mrs. William Augustus (Marie Eugenie)",
         "female",
         "no-info",
         "1",
         "0",
         "PC 17569",
         "146.5208",
         "B78",
         "C"
        ],
        [
         "32",
         "33",
         "1",
         "3",
         "Glynn, Miss. Mary Agatha",
         "female",
         "no-info",
         "0",
         "0",
         "335677",
         "7.75",
         "no-info",
         "Q"
        ],
        [
         "33",
         "34",
         "0",
         "2",
         "Wheadon, Mr. Edward H",
         "male",
         "66.0",
         "0",
         "0",
         "C.A. 24579",
         "10.5",
         "no-info",
         "S"
        ],
        [
         "34",
         "35",
         "0",
         "1",
         "Meyer, Mr. Edgar Joseph",
         "male",
         "28.0",
         "1",
         "0",
         "PC 17604",
         "82.1708",
         "no-info",
         "C"
        ],
        [
         "35",
         "36",
         "0",
         "1",
         "Holverson, Mr. Alexander Oskar",
         "male",
         "42.0",
         "1",
         "0",
         "113789",
         "52.0",
         "no-info",
         "S"
        ],
        [
         "36",
         "37",
         "1",
         "3",
         "Mamee, Mr. Hanna",
         "male",
         "no-info",
         "0",
         "0",
         "2677",
         "7.2292",
         "no-info",
         "C"
        ],
        [
         "37",
         "38",
         "0",
         "3",
         "Cann, Mr. Ernest Charles",
         "male",
         "21.0",
         "0",
         "0",
         "A./5. 2152",
         "8.05",
         "no-info",
         "S"
        ],
        [
         "38",
         "39",
         "0",
         "3",
         "Vander Planke, Miss. Augusta Maria",
         "female",
         "18.0",
         "2",
         "0",
         "345764",
         "18.0",
         "no-info",
         "S"
        ],
        [
         "39",
         "40",
         "1",
         "3",
         "Nicola-Yarred, Miss. Jamila",
         "female",
         "14.0",
         "1",
         "0",
         "2651",
         "11.2417",
         "no-info",
         "C"
        ],
        [
         "40",
         "41",
         "0",
         "3",
         "Ahlin, Mrs. Johan (Johanna Persdotter Larsson)",
         "female",
         "40.0",
         "1",
         "0",
         "7546",
         "9.475",
         "no-info",
         "S"
        ],
        [
         "41",
         "42",
         "0",
         "2",
         "Turpin, Mrs. William John Robert (Dorothy Ann Wonnacott)",
         "female",
         "27.0",
         "1",
         "0",
         "11668",
         "21.0",
         "no-info",
         "S"
        ],
        [
         "42",
         "43",
         "0",
         "3",
         "Kraeff, Mr. Theodor",
         "male",
         "no-info",
         "0",
         "0",
         "349253",
         "7.8958",
         "no-info",
         "C"
        ],
        [
         "43",
         "44",
         "1",
         "2",
         "Laroche, Miss. Simonne Marie Anne Andree",
         "female",
         "3.0",
         "1",
         "2",
         "SC/Paris 2123",
         "41.5792",
         "no-info",
         "C"
        ],
        [
         "44",
         "45",
         "1",
         "3",
         "Devaney, Miss. Margaret Delia",
         "female",
         "19.0",
         "0",
         "0",
         "330958",
         "7.8792",
         "no-info",
         "Q"
        ],
        [
         "45",
         "46",
         "0",
         "3",
         "Rogers, Mr. William John",
         "male",
         "no-info",
         "0",
         "0",
         "S.C./A.4. 23567",
         "8.05",
         "no-info",
         "S"
        ],
        [
         "46",
         "47",
         "0",
         "3",
         "Lennon, Mr. Denis",
         "male",
         "no-info",
         "1",
         "0",
         "370371",
         "15.5",
         "no-info",
         "Q"
        ],
        [
         "47",
         "48",
         "1",
         "3",
         "O'Driscoll, Miss. Bridget",
         "female",
         "no-info",
         "0",
         "0",
         "14311",
         "7.75",
         "no-info",
         "Q"
        ],
        [
         "48",
         "49",
         "0",
         "3",
         "Samaan, Mr. Youssef",
         "male",
         "no-info",
         "2",
         "0",
         "2662",
         "21.6792",
         "no-info",
         "C"
        ],
        [
         "49",
         "50",
         "0",
         "3",
         "Arnold-Franchi, Mrs. Josef (Josefine Franchi)",
         "female",
         "18.0",
         "1",
         "0",
         "349237",
         "17.8",
         "no-info",
         "S"
        ]
       ],
       "shape": {
        "columns": 12,
        "rows": 891
       }
      },
      "text/html": [
       "<div>\n",
       "<style scoped>\n",
       "    .dataframe tbody tr th:only-of-type {\n",
       "        vertical-align: middle;\n",
       "    }\n",
       "\n",
       "    .dataframe tbody tr th {\n",
       "        vertical-align: top;\n",
       "    }\n",
       "\n",
       "    .dataframe thead th {\n",
       "        text-align: right;\n",
       "    }\n",
       "</style>\n",
       "<table border=\"1\" class=\"dataframe\">\n",
       "  <thead>\n",
       "    <tr style=\"text-align: right;\">\n",
       "      <th></th>\n",
       "      <th>PassengerId</th>\n",
       "      <th>Survived</th>\n",
       "      <th>Pclass</th>\n",
       "      <th>Name</th>\n",
       "      <th>Sex</th>\n",
       "      <th>Age</th>\n",
       "      <th>SibSp</th>\n",
       "      <th>Parch</th>\n",
       "      <th>Ticket</th>\n",
       "      <th>Fare</th>\n",
       "      <th>Cabin</th>\n",
       "      <th>Embarked</th>\n",
       "    </tr>\n",
       "  </thead>\n",
       "  <tbody>\n",
       "    <tr>\n",
       "      <th>0</th>\n",
       "      <td>1</td>\n",
       "      <td>0</td>\n",
       "      <td>3</td>\n",
       "      <td>Braund, Mr. Owen Harris</td>\n",
       "      <td>male</td>\n",
       "      <td>22.0</td>\n",
       "      <td>1</td>\n",
       "      <td>0</td>\n",
       "      <td>A/5 21171</td>\n",
       "      <td>7.2500</td>\n",
       "      <td>no-info</td>\n",
       "      <td>S</td>\n",
       "    </tr>\n",
       "    <tr>\n",
       "      <th>1</th>\n",
       "      <td>2</td>\n",
       "      <td>1</td>\n",
       "      <td>1</td>\n",
       "      <td>Cumings, Mrs. John Bradley (Florence Briggs Th...</td>\n",
       "      <td>female</td>\n",
       "      <td>38.0</td>\n",
       "      <td>1</td>\n",
       "      <td>0</td>\n",
       "      <td>PC 17599</td>\n",
       "      <td>71.2833</td>\n",
       "      <td>C85</td>\n",
       "      <td>C</td>\n",
       "    </tr>\n",
       "    <tr>\n",
       "      <th>2</th>\n",
       "      <td>3</td>\n",
       "      <td>1</td>\n",
       "      <td>3</td>\n",
       "      <td>Heikkinen, Miss. Laina</td>\n",
       "      <td>female</td>\n",
       "      <td>26.0</td>\n",
       "      <td>0</td>\n",
       "      <td>0</td>\n",
       "      <td>STON/O2. 3101282</td>\n",
       "      <td>7.9250</td>\n",
       "      <td>no-info</td>\n",
       "      <td>S</td>\n",
       "    </tr>\n",
       "    <tr>\n",
       "      <th>3</th>\n",
       "      <td>4</td>\n",
       "      <td>1</td>\n",
       "      <td>1</td>\n",
       "      <td>Futrelle, Mrs. Jacques Heath (Lily May Peel)</td>\n",
       "      <td>female</td>\n",
       "      <td>35.0</td>\n",
       "      <td>1</td>\n",
       "      <td>0</td>\n",
       "      <td>113803</td>\n",
       "      <td>53.1000</td>\n",
       "      <td>C123</td>\n",
       "      <td>S</td>\n",
       "    </tr>\n",
       "    <tr>\n",
       "      <th>4</th>\n",
       "      <td>5</td>\n",
       "      <td>0</td>\n",
       "      <td>3</td>\n",
       "      <td>Allen, Mr. William Henry</td>\n",
       "      <td>male</td>\n",
       "      <td>35.0</td>\n",
       "      <td>0</td>\n",
       "      <td>0</td>\n",
       "      <td>373450</td>\n",
       "      <td>8.0500</td>\n",
       "      <td>no-info</td>\n",
       "      <td>S</td>\n",
       "    </tr>\n",
       "    <tr>\n",
       "      <th>...</th>\n",
       "      <td>...</td>\n",
       "      <td>...</td>\n",
       "      <td>...</td>\n",
       "      <td>...</td>\n",
       "      <td>...</td>\n",
       "      <td>...</td>\n",
       "      <td>...</td>\n",
       "      <td>...</td>\n",
       "      <td>...</td>\n",
       "      <td>...</td>\n",
       "      <td>...</td>\n",
       "      <td>...</td>\n",
       "    </tr>\n",
       "    <tr>\n",
       "      <th>886</th>\n",
       "      <td>887</td>\n",
       "      <td>0</td>\n",
       "      <td>2</td>\n",
       "      <td>Montvila, Rev. Juozas</td>\n",
       "      <td>male</td>\n",
       "      <td>27.0</td>\n",
       "      <td>0</td>\n",
       "      <td>0</td>\n",
       "      <td>211536</td>\n",
       "      <td>13.0000</td>\n",
       "      <td>no-info</td>\n",
       "      <td>S</td>\n",
       "    </tr>\n",
       "    <tr>\n",
       "      <th>887</th>\n",
       "      <td>888</td>\n",
       "      <td>1</td>\n",
       "      <td>1</td>\n",
       "      <td>Graham, Miss. Margaret Edith</td>\n",
       "      <td>female</td>\n",
       "      <td>19.0</td>\n",
       "      <td>0</td>\n",
       "      <td>0</td>\n",
       "      <td>112053</td>\n",
       "      <td>30.0000</td>\n",
       "      <td>B42</td>\n",
       "      <td>S</td>\n",
       "    </tr>\n",
       "    <tr>\n",
       "      <th>888</th>\n",
       "      <td>889</td>\n",
       "      <td>0</td>\n",
       "      <td>3</td>\n",
       "      <td>Johnston, Miss. Catherine Helen \"Carrie\"</td>\n",
       "      <td>female</td>\n",
       "      <td>no-info</td>\n",
       "      <td>1</td>\n",
       "      <td>2</td>\n",
       "      <td>W./C. 6607</td>\n",
       "      <td>23.4500</td>\n",
       "      <td>no-info</td>\n",
       "      <td>S</td>\n",
       "    </tr>\n",
       "    <tr>\n",
       "      <th>889</th>\n",
       "      <td>890</td>\n",
       "      <td>1</td>\n",
       "      <td>1</td>\n",
       "      <td>Behr, Mr. Karl Howell</td>\n",
       "      <td>male</td>\n",
       "      <td>26.0</td>\n",
       "      <td>0</td>\n",
       "      <td>0</td>\n",
       "      <td>111369</td>\n",
       "      <td>30.0000</td>\n",
       "      <td>C148</td>\n",
       "      <td>C</td>\n",
       "    </tr>\n",
       "    <tr>\n",
       "      <th>890</th>\n",
       "      <td>891</td>\n",
       "      <td>0</td>\n",
       "      <td>3</td>\n",
       "      <td>Dooley, Mr. Patrick</td>\n",
       "      <td>male</td>\n",
       "      <td>32.0</td>\n",
       "      <td>0</td>\n",
       "      <td>0</td>\n",
       "      <td>370376</td>\n",
       "      <td>7.7500</td>\n",
       "      <td>no-info</td>\n",
       "      <td>Q</td>\n",
       "    </tr>\n",
       "  </tbody>\n",
       "</table>\n",
       "<p>891 rows × 12 columns</p>\n",
       "</div>"
      ],
      "text/plain": [
       "     PassengerId  Survived  Pclass  \\\n",
       "0              1         0       3   \n",
       "1              2         1       1   \n",
       "2              3         1       3   \n",
       "3              4         1       1   \n",
       "4              5         0       3   \n",
       "..           ...       ...     ...   \n",
       "886          887         0       2   \n",
       "887          888         1       1   \n",
       "888          889         0       3   \n",
       "889          890         1       1   \n",
       "890          891         0       3   \n",
       "\n",
       "                                                  Name     Sex      Age  \\\n",
       "0                              Braund, Mr. Owen Harris    male     22.0   \n",
       "1    Cumings, Mrs. John Bradley (Florence Briggs Th...  female     38.0   \n",
       "2                               Heikkinen, Miss. Laina  female     26.0   \n",
       "3         Futrelle, Mrs. Jacques Heath (Lily May Peel)  female     35.0   \n",
       "4                             Allen, Mr. William Henry    male     35.0   \n",
       "..                                                 ...     ...      ...   \n",
       "886                              Montvila, Rev. Juozas    male     27.0   \n",
       "887                       Graham, Miss. Margaret Edith  female     19.0   \n",
       "888           Johnston, Miss. Catherine Helen \"Carrie\"  female  no-info   \n",
       "889                              Behr, Mr. Karl Howell    male     26.0   \n",
       "890                                Dooley, Mr. Patrick    male     32.0   \n",
       "\n",
       "     SibSp  Parch            Ticket     Fare    Cabin Embarked  \n",
       "0        1      0         A/5 21171   7.2500  no-info        S  \n",
       "1        1      0          PC 17599  71.2833      C85        C  \n",
       "2        0      0  STON/O2. 3101282   7.9250  no-info        S  \n",
       "3        1      0            113803  53.1000     C123        S  \n",
       "4        0      0            373450   8.0500  no-info        S  \n",
       "..     ...    ...               ...      ...      ...      ...  \n",
       "886      0      0            211536  13.0000  no-info        S  \n",
       "887      0      0            112053  30.0000      B42        S  \n",
       "888      1      2        W./C. 6607  23.4500  no-info        S  \n",
       "889      0      0            111369  30.0000     C148        C  \n",
       "890      0      0            370376   7.7500  no-info        Q  \n",
       "\n",
       "[891 rows x 12 columns]"
      ]
     },
     "execution_count": 20,
     "metadata": {},
     "output_type": "execute_result"
    }
   ],
   "source": [
    "df.fillna(\"no-info\")"
   ]
  },
  {
   "cell_type": "code",
   "execution_count": null,
   "id": "3c0fd585",
   "metadata": {
    "slideshow": {
     "slide_type": "slide"
    }
   },
   "outputs": [],
   "source": [
    "df[\"Cabin\"] = df[\"Cabin\"].fillna(\"no-cabin\") # this line of code changes the df!!\n",
    "df"
   ]
  },
  {
   "cell_type": "markdown",
   "id": "bc7fbbb4",
   "metadata": {
    "slideshow": {
     "slide_type": "slide"
    }
   },
   "source": [
    "## Changing values in a cell\n",
    "\n",
    "#### `df.loc[rowlabel, columnlabel] = new_value`"
   ]
  },
  {
   "cell_type": "code",
   "execution_count": null,
   "id": "cbb33662",
   "metadata": {
    "slideshow": {
     "slide_type": "slide"
    }
   },
   "outputs": [],
   "source": [
    "# this will change the value in the cell of the first row, column \"Name\"\n",
    "df.loc[0, \"Name\"] = \"S.O.S\" # assigning CHANGES the object!\n",
    "df.head()"
   ]
  },
  {
   "cell_type": "code",
   "execution_count": null,
   "id": "3512a977",
   "metadata": {
    "slideshow": {
     "slide_type": "slide"
    }
   },
   "outputs": [],
   "source": [
    "# this will change the value in the cells of the first 3 rows, column \"Name\"\n",
    "df.loc[[0,1,2], \"Name\"] = \"Not Me Please!\" # assigning CHANGES the object!\n",
    "df.head()"
   ]
  },
  {
   "cell_type": "markdown",
   "id": "21a7b272",
   "metadata": {
    "slideshow": {
     "slide_type": "slide"
    }
   },
   "source": [
    "***\n",
    "\n",
    "## Replacing values \"dynamically\"\n",
    "\n",
    "`.replace()`"
   ]
  },
  {
   "cell_type": "code",
   "execution_count": null,
   "id": "2c1101ba",
   "metadata": {
    "slideshow": {
     "slide_type": "slide"
    }
   },
   "outputs": [],
   "source": [
    "?replace # correct to see the docstring!"
   ]
  },
  {
   "cell_type": "code",
   "execution_count": 21,
   "id": "c3d9b99d",
   "metadata": {
    "slideshow": {
     "slide_type": "slide"
    }
   },
   "outputs": [
    {
     "data": {
      "application/vnd.microsoft.datawrangler.viewer.v0+json": {
       "columns": [
        {
         "name": "index",
         "rawType": "int64",
         "type": "integer"
        },
        {
         "name": "PassengerId",
         "rawType": "int64",
         "type": "integer"
        },
        {
         "name": "Survived",
         "rawType": "object",
         "type": "unknown"
        },
        {
         "name": "Pclass",
         "rawType": "int64",
         "type": "integer"
        },
        {
         "name": "Name",
         "rawType": "object",
         "type": "string"
        },
        {
         "name": "Sex",
         "rawType": "object",
         "type": "string"
        },
        {
         "name": "Age",
         "rawType": "float64",
         "type": "float"
        },
        {
         "name": "SibSp",
         "rawType": "object",
         "type": "unknown"
        },
        {
         "name": "Parch",
         "rawType": "object",
         "type": "unknown"
        },
        {
         "name": "Ticket",
         "rawType": "object",
         "type": "string"
        },
        {
         "name": "Fare",
         "rawType": "object",
         "type": "unknown"
        },
        {
         "name": "Cabin",
         "rawType": "object",
         "type": "unknown"
        },
        {
         "name": "Embarked",
         "rawType": "object",
         "type": "unknown"
        }
       ],
       "ref": "aee7f7c9-30ee-489e-b885-6f060b1b858a",
       "rows": [
        [
         "0",
         "1",
         "zero",
         "3",
         "Braund, Mr. Owen Harris",
         "male",
         "22.0",
         "1",
         "zero",
         "A/5 21171",
         "7.25",
         null,
         "S"
        ],
        [
         "1",
         "2",
         "1",
         "1",
         "Cumings, Mrs. John Bradley (Florence Briggs Thayer)",
         "female",
         "38.0",
         "1",
         "zero",
         "PC 17599",
         "71.2833",
         "C85",
         "C"
        ],
        [
         "2",
         "3",
         "1",
         "3",
         "Heikkinen, Miss. Laina",
         "female",
         "26.0",
         "zero",
         "zero",
         "STON/O2. 3101282",
         "7.925",
         null,
         "S"
        ],
        [
         "3",
         "4",
         "1",
         "1",
         "Futrelle, Mrs. Jacques Heath (Lily May Peel)",
         "female",
         "35.0",
         "1",
         "zero",
         "113803",
         "53.1",
         "C123",
         "S"
        ],
        [
         "4",
         "5",
         "zero",
         "3",
         "Allen, Mr. William Henry",
         "male",
         "35.0",
         "zero",
         "zero",
         "373450",
         "8.05",
         null,
         "S"
        ],
        [
         "5",
         "6",
         "zero",
         "3",
         "Moran, Mr. James",
         "male",
         null,
         "zero",
         "zero",
         "330877",
         "8.4583",
         null,
         "Q"
        ],
        [
         "6",
         "7",
         "zero",
         "1",
         "McCarthy, Mr. Timothy J",
         "male",
         "54.0",
         "zero",
         "zero",
         "17463",
         "51.8625",
         "E46",
         "S"
        ],
        [
         "7",
         "8",
         "zero",
         "3",
         "Palsson, Master. Gosta Leonard",
         "male",
         "2.0",
         "3",
         "1",
         "349909",
         "21.075",
         null,
         "S"
        ],
        [
         "8",
         "9",
         "1",
         "3",
         "Johnson, Mrs. Oscar W (Elisabeth Vilhelmina Berg)",
         "female",
         "27.0",
         "zero",
         "2",
         "347742",
         "11.1333",
         null,
         "S"
        ],
        [
         "9",
         "10",
         "1",
         "2",
         "Nasser, Mrs. Nicholas (Adele Achem)",
         "female",
         "14.0",
         "1",
         "zero",
         "237736",
         "30.0708",
         null,
         "C"
        ],
        [
         "10",
         "11",
         "1",
         "3",
         "Sandstrom, Miss. Marguerite Rut",
         "female",
         "4.0",
         "1",
         "1",
         "PP 9549",
         "16.7",
         "G6",
         "S"
        ],
        [
         "11",
         "12",
         "1",
         "1",
         "Bonnell, Miss. Elizabeth",
         "female",
         "58.0",
         "zero",
         "zero",
         "113783",
         "26.55",
         "C103",
         "S"
        ],
        [
         "12",
         "13",
         "zero",
         "3",
         "Saundercock, Mr. William Henry",
         "male",
         "20.0",
         "zero",
         "zero",
         "A/5. 2151",
         "8.05",
         null,
         "S"
        ],
        [
         "13",
         "14",
         "zero",
         "3",
         "Andersson, Mr. Anders Johan",
         "male",
         "39.0",
         "1",
         "5",
         "347082",
         "31.275",
         null,
         "S"
        ],
        [
         "14",
         "15",
         "zero",
         "3",
         "Vestrom, Miss. Hulda Amanda Adolfina",
         "female",
         "14.0",
         "zero",
         "zero",
         "350406",
         "7.8542",
         null,
         "S"
        ],
        [
         "15",
         "16",
         "1",
         "2",
         "Hewlett, Mrs. (Mary D Kingcome) ",
         "female",
         "55.0",
         "zero",
         "zero",
         "248706",
         "16.0",
         null,
         "S"
        ],
        [
         "16",
         "17",
         "zero",
         "3",
         "Rice, Master. Eugene",
         "male",
         "2.0",
         "4",
         "1",
         "382652",
         "29.125",
         null,
         "Q"
        ],
        [
         "17",
         "18",
         "1",
         "2",
         "Williams, Mr. Charles Eugene",
         "male",
         null,
         "zero",
         "zero",
         "244373",
         "13.0",
         null,
         "S"
        ],
        [
         "18",
         "19",
         "zero",
         "3",
         "Vander Planke, Mrs. Julius (Emelia Maria Vandemoortele)",
         "female",
         "31.0",
         "1",
         "zero",
         "345763",
         "18.0",
         null,
         "S"
        ],
        [
         "19",
         "20",
         "1",
         "3",
         "Masselmani, Mrs. Fatima",
         "female",
         null,
         "zero",
         "zero",
         "2649",
         "7.225",
         null,
         "C"
        ],
        [
         "20",
         "21",
         "zero",
         "2",
         "Fynney, Mr. Joseph J",
         "male",
         "35.0",
         "zero",
         "zero",
         "239865",
         "26.0",
         null,
         "S"
        ],
        [
         "21",
         "22",
         "1",
         "2",
         "Beesley, Mr. Lawrence",
         "male",
         "34.0",
         "zero",
         "zero",
         "248698",
         "13.0",
         "D56",
         "S"
        ],
        [
         "22",
         "23",
         "1",
         "3",
         "McGowan, Miss. Anna \"Annie\"",
         "female",
         "15.0",
         "zero",
         "zero",
         "330923",
         "8.0292",
         null,
         "Q"
        ],
        [
         "23",
         "24",
         "1",
         "1",
         "Sloper, Mr. William Thompson",
         "male",
         "28.0",
         "zero",
         "zero",
         "113788",
         "35.5",
         "A6",
         "S"
        ],
        [
         "24",
         "25",
         "zero",
         "3",
         "Palsson, Miss. Torborg Danira",
         "female",
         "8.0",
         "3",
         "1",
         "349909",
         "21.075",
         null,
         "S"
        ],
        [
         "25",
         "26",
         "1",
         "3",
         "Asplund, Mrs. Carl Oscar (Selma Augusta Emilia Johansson)",
         "female",
         "38.0",
         "1",
         "5",
         "347077",
         "31.3875",
         null,
         "S"
        ],
        [
         "26",
         "27",
         "zero",
         "3",
         "Emir, Mr. Farred Chehab",
         "male",
         null,
         "zero",
         "zero",
         "2631",
         "7.225",
         null,
         "C"
        ],
        [
         "27",
         "28",
         "zero",
         "1",
         "Fortune, Mr. Charles Alexander",
         "male",
         "19.0",
         "3",
         "2",
         "19950",
         "263.0",
         "C23 C25 C27",
         "S"
        ],
        [
         "28",
         "29",
         "1",
         "3",
         "O'Dwyer, Miss. Ellen \"Nellie\"",
         "female",
         null,
         "zero",
         "zero",
         "330959",
         "7.8792",
         null,
         "Q"
        ],
        [
         "29",
         "30",
         "zero",
         "3",
         "Todoroff, Mr. Lalio",
         "male",
         null,
         "zero",
         "zero",
         "349216",
         "7.8958",
         null,
         "S"
        ],
        [
         "30",
         "31",
         "zero",
         "1",
         "Uruchurtu, Don. Manuel E",
         "male",
         "40.0",
         "zero",
         "zero",
         "PC 17601",
         "27.7208",
         null,
         "C"
        ],
        [
         "31",
         "32",
         "1",
         "1",
         "Spencer, Mrs. William Augustus (Marie Eugenie)",
         "female",
         null,
         "1",
         "zero",
         "PC 17569",
         "146.5208",
         "B78",
         "C"
        ],
        [
         "32",
         "33",
         "1",
         "3",
         "Glynn, Miss. Mary Agatha",
         "female",
         null,
         "zero",
         "zero",
         "335677",
         "7.75",
         null,
         "Q"
        ],
        [
         "33",
         "34",
         "zero",
         "2",
         "Wheadon, Mr. Edward H",
         "male",
         "66.0",
         "zero",
         "zero",
         "C.A. 24579",
         "10.5",
         null,
         "S"
        ],
        [
         "34",
         "35",
         "zero",
         "1",
         "Meyer, Mr. Edgar Joseph",
         "male",
         "28.0",
         "1",
         "zero",
         "PC 17604",
         "82.1708",
         null,
         "C"
        ],
        [
         "35",
         "36",
         "zero",
         "1",
         "Holverson, Mr. Alexander Oskar",
         "male",
         "42.0",
         "1",
         "zero",
         "113789",
         "52.0",
         null,
         "S"
        ],
        [
         "36",
         "37",
         "1",
         "3",
         "Mamee, Mr. Hanna",
         "male",
         null,
         "zero",
         "zero",
         "2677",
         "7.2292",
         null,
         "C"
        ],
        [
         "37",
         "38",
         "zero",
         "3",
         "Cann, Mr. Ernest Charles",
         "male",
         "21.0",
         "zero",
         "zero",
         "A./5. 2152",
         "8.05",
         null,
         "S"
        ],
        [
         "38",
         "39",
         "zero",
         "3",
         "Vander Planke, Miss. Augusta Maria",
         "female",
         "18.0",
         "2",
         "zero",
         "345764",
         "18.0",
         null,
         "S"
        ],
        [
         "39",
         "40",
         "1",
         "3",
         "Nicola-Yarred, Miss. Jamila",
         "female",
         "14.0",
         "1",
         "zero",
         "2651",
         "11.2417",
         null,
         "C"
        ],
        [
         "40",
         "41",
         "zero",
         "3",
         "Ahlin, Mrs. Johan (Johanna Persdotter Larsson)",
         "female",
         "40.0",
         "1",
         "zero",
         "7546",
         "9.475",
         null,
         "S"
        ],
        [
         "41",
         "42",
         "zero",
         "2",
         "Turpin, Mrs. William John Robert (Dorothy Ann Wonnacott)",
         "female",
         "27.0",
         "1",
         "zero",
         "11668",
         "21.0",
         null,
         "S"
        ],
        [
         "42",
         "43",
         "zero",
         "3",
         "Kraeff, Mr. Theodor",
         "male",
         null,
         "zero",
         "zero",
         "349253",
         "7.8958",
         null,
         "C"
        ],
        [
         "43",
         "44",
         "1",
         "2",
         "Laroche, Miss. Simonne Marie Anne Andree",
         "female",
         "3.0",
         "1",
         "2",
         "SC/Paris 2123",
         "41.5792",
         null,
         "C"
        ],
        [
         "44",
         "45",
         "1",
         "3",
         "Devaney, Miss. Margaret Delia",
         "female",
         "19.0",
         "zero",
         "zero",
         "330958",
         "7.8792",
         null,
         "Q"
        ],
        [
         "45",
         "46",
         "zero",
         "3",
         "Rogers, Mr. William John",
         "male",
         null,
         "zero",
         "zero",
         "S.C./A.4. 23567",
         "8.05",
         null,
         "S"
        ],
        [
         "46",
         "47",
         "zero",
         "3",
         "Lennon, Mr. Denis",
         "male",
         null,
         "1",
         "zero",
         "370371",
         "15.5",
         null,
         "Q"
        ],
        [
         "47",
         "48",
         "1",
         "3",
         "O'Driscoll, Miss. Bridget",
         "female",
         null,
         "zero",
         "zero",
         "14311",
         "7.75",
         null,
         "Q"
        ],
        [
         "48",
         "49",
         "zero",
         "3",
         "Samaan, Mr. Youssef",
         "male",
         null,
         "2",
         "zero",
         "2662",
         "21.6792",
         null,
         "C"
        ],
        [
         "49",
         "50",
         "zero",
         "3",
         "Arnold-Franchi, Mrs. Josef (Josefine Franchi)",
         "female",
         "18.0",
         "1",
         "zero",
         "349237",
         "17.8",
         null,
         "S"
        ]
       ],
       "shape": {
        "columns": 12,
        "rows": 891
       }
      },
      "text/html": [
       "<div>\n",
       "<style scoped>\n",
       "    .dataframe tbody tr th:only-of-type {\n",
       "        vertical-align: middle;\n",
       "    }\n",
       "\n",
       "    .dataframe tbody tr th {\n",
       "        vertical-align: top;\n",
       "    }\n",
       "\n",
       "    .dataframe thead th {\n",
       "        text-align: right;\n",
       "    }\n",
       "</style>\n",
       "<table border=\"1\" class=\"dataframe\">\n",
       "  <thead>\n",
       "    <tr style=\"text-align: right;\">\n",
       "      <th></th>\n",
       "      <th>PassengerId</th>\n",
       "      <th>Survived</th>\n",
       "      <th>Pclass</th>\n",
       "      <th>Name</th>\n",
       "      <th>Sex</th>\n",
       "      <th>Age</th>\n",
       "      <th>SibSp</th>\n",
       "      <th>Parch</th>\n",
       "      <th>Ticket</th>\n",
       "      <th>Fare</th>\n",
       "      <th>Cabin</th>\n",
       "      <th>Embarked</th>\n",
       "    </tr>\n",
       "  </thead>\n",
       "  <tbody>\n",
       "    <tr>\n",
       "      <th>0</th>\n",
       "      <td>1</td>\n",
       "      <td>zero</td>\n",
       "      <td>3</td>\n",
       "      <td>Braund, Mr. Owen Harris</td>\n",
       "      <td>male</td>\n",
       "      <td>22.0</td>\n",
       "      <td>1</td>\n",
       "      <td>zero</td>\n",
       "      <td>A/5 21171</td>\n",
       "      <td>7.25</td>\n",
       "      <td>NaN</td>\n",
       "      <td>S</td>\n",
       "    </tr>\n",
       "    <tr>\n",
       "      <th>1</th>\n",
       "      <td>2</td>\n",
       "      <td>1</td>\n",
       "      <td>1</td>\n",
       "      <td>Cumings, Mrs. John Bradley (Florence Briggs Th...</td>\n",
       "      <td>female</td>\n",
       "      <td>38.0</td>\n",
       "      <td>1</td>\n",
       "      <td>zero</td>\n",
       "      <td>PC 17599</td>\n",
       "      <td>71.2833</td>\n",
       "      <td>C85</td>\n",
       "      <td>C</td>\n",
       "    </tr>\n",
       "    <tr>\n",
       "      <th>2</th>\n",
       "      <td>3</td>\n",
       "      <td>1</td>\n",
       "      <td>3</td>\n",
       "      <td>Heikkinen, Miss. Laina</td>\n",
       "      <td>female</td>\n",
       "      <td>26.0</td>\n",
       "      <td>zero</td>\n",
       "      <td>zero</td>\n",
       "      <td>STON/O2. 3101282</td>\n",
       "      <td>7.925</td>\n",
       "      <td>NaN</td>\n",
       "      <td>S</td>\n",
       "    </tr>\n",
       "    <tr>\n",
       "      <th>3</th>\n",
       "      <td>4</td>\n",
       "      <td>1</td>\n",
       "      <td>1</td>\n",
       "      <td>Futrelle, Mrs. Jacques Heath (Lily May Peel)</td>\n",
       "      <td>female</td>\n",
       "      <td>35.0</td>\n",
       "      <td>1</td>\n",
       "      <td>zero</td>\n",
       "      <td>113803</td>\n",
       "      <td>53.1</td>\n",
       "      <td>C123</td>\n",
       "      <td>S</td>\n",
       "    </tr>\n",
       "    <tr>\n",
       "      <th>4</th>\n",
       "      <td>5</td>\n",
       "      <td>zero</td>\n",
       "      <td>3</td>\n",
       "      <td>Allen, Mr. William Henry</td>\n",
       "      <td>male</td>\n",
       "      <td>35.0</td>\n",
       "      <td>zero</td>\n",
       "      <td>zero</td>\n",
       "      <td>373450</td>\n",
       "      <td>8.05</td>\n",
       "      <td>NaN</td>\n",
       "      <td>S</td>\n",
       "    </tr>\n",
       "    <tr>\n",
       "      <th>...</th>\n",
       "      <td>...</td>\n",
       "      <td>...</td>\n",
       "      <td>...</td>\n",
       "      <td>...</td>\n",
       "      <td>...</td>\n",
       "      <td>...</td>\n",
       "      <td>...</td>\n",
       "      <td>...</td>\n",
       "      <td>...</td>\n",
       "      <td>...</td>\n",
       "      <td>...</td>\n",
       "      <td>...</td>\n",
       "    </tr>\n",
       "    <tr>\n",
       "      <th>886</th>\n",
       "      <td>887</td>\n",
       "      <td>zero</td>\n",
       "      <td>2</td>\n",
       "      <td>Montvila, Rev. Juozas</td>\n",
       "      <td>male</td>\n",
       "      <td>27.0</td>\n",
       "      <td>zero</td>\n",
       "      <td>zero</td>\n",
       "      <td>211536</td>\n",
       "      <td>13.0</td>\n",
       "      <td>NaN</td>\n",
       "      <td>S</td>\n",
       "    </tr>\n",
       "    <tr>\n",
       "      <th>887</th>\n",
       "      <td>888</td>\n",
       "      <td>1</td>\n",
       "      <td>1</td>\n",
       "      <td>Graham, Miss. Margaret Edith</td>\n",
       "      <td>female</td>\n",
       "      <td>19.0</td>\n",
       "      <td>zero</td>\n",
       "      <td>zero</td>\n",
       "      <td>112053</td>\n",
       "      <td>30.0</td>\n",
       "      <td>B42</td>\n",
       "      <td>S</td>\n",
       "    </tr>\n",
       "    <tr>\n",
       "      <th>888</th>\n",
       "      <td>889</td>\n",
       "      <td>zero</td>\n",
       "      <td>3</td>\n",
       "      <td>Johnston, Miss. Catherine Helen \"Carrie\"</td>\n",
       "      <td>female</td>\n",
       "      <td>NaN</td>\n",
       "      <td>1</td>\n",
       "      <td>2</td>\n",
       "      <td>W./C. 6607</td>\n",
       "      <td>23.45</td>\n",
       "      <td>NaN</td>\n",
       "      <td>S</td>\n",
       "    </tr>\n",
       "    <tr>\n",
       "      <th>889</th>\n",
       "      <td>890</td>\n",
       "      <td>1</td>\n",
       "      <td>1</td>\n",
       "      <td>Behr, Mr. Karl Howell</td>\n",
       "      <td>male</td>\n",
       "      <td>26.0</td>\n",
       "      <td>zero</td>\n",
       "      <td>zero</td>\n",
       "      <td>111369</td>\n",
       "      <td>30.0</td>\n",
       "      <td>C148</td>\n",
       "      <td>C</td>\n",
       "    </tr>\n",
       "    <tr>\n",
       "      <th>890</th>\n",
       "      <td>891</td>\n",
       "      <td>zero</td>\n",
       "      <td>3</td>\n",
       "      <td>Dooley, Mr. Patrick</td>\n",
       "      <td>male</td>\n",
       "      <td>32.0</td>\n",
       "      <td>zero</td>\n",
       "      <td>zero</td>\n",
       "      <td>370376</td>\n",
       "      <td>7.75</td>\n",
       "      <td>NaN</td>\n",
       "      <td>Q</td>\n",
       "    </tr>\n",
       "  </tbody>\n",
       "</table>\n",
       "<p>891 rows × 12 columns</p>\n",
       "</div>"
      ],
      "text/plain": [
       "     PassengerId Survived  Pclass  \\\n",
       "0              1     zero       3   \n",
       "1              2        1       1   \n",
       "2              3        1       3   \n",
       "3              4        1       1   \n",
       "4              5     zero       3   \n",
       "..           ...      ...     ...   \n",
       "886          887     zero       2   \n",
       "887          888        1       1   \n",
       "888          889     zero       3   \n",
       "889          890        1       1   \n",
       "890          891     zero       3   \n",
       "\n",
       "                                                  Name     Sex   Age SibSp  \\\n",
       "0                              Braund, Mr. Owen Harris    male  22.0     1   \n",
       "1    Cumings, Mrs. John Bradley (Florence Briggs Th...  female  38.0     1   \n",
       "2                               Heikkinen, Miss. Laina  female  26.0  zero   \n",
       "3         Futrelle, Mrs. Jacques Heath (Lily May Peel)  female  35.0     1   \n",
       "4                             Allen, Mr. William Henry    male  35.0  zero   \n",
       "..                                                 ...     ...   ...   ...   \n",
       "886                              Montvila, Rev. Juozas    male  27.0  zero   \n",
       "887                       Graham, Miss. Margaret Edith  female  19.0  zero   \n",
       "888           Johnston, Miss. Catherine Helen \"Carrie\"  female   NaN     1   \n",
       "889                              Behr, Mr. Karl Howell    male  26.0  zero   \n",
       "890                                Dooley, Mr. Patrick    male  32.0  zero   \n",
       "\n",
       "    Parch            Ticket     Fare Cabin Embarked  \n",
       "0    zero         A/5 21171     7.25   NaN        S  \n",
       "1    zero          PC 17599  71.2833   C85        C  \n",
       "2    zero  STON/O2. 3101282    7.925   NaN        S  \n",
       "3    zero            113803     53.1  C123        S  \n",
       "4    zero            373450     8.05   NaN        S  \n",
       "..    ...               ...      ...   ...      ...  \n",
       "886  zero            211536     13.0   NaN        S  \n",
       "887  zero            112053     30.0   B42        S  \n",
       "888     2        W./C. 6607    23.45   NaN        S  \n",
       "889  zero            111369     30.0  C148        C  \n",
       "890  zero            370376     7.75   NaN        Q  \n",
       "\n",
       "[891 rows x 12 columns]"
      ]
     },
     "execution_count": 21,
     "metadata": {},
     "output_type": "execute_result"
    }
   ],
   "source": [
    "df.replace(to_replace=0, value=\"zero\")"
   ]
  },
  {
   "cell_type": "markdown",
   "id": "b500bef8",
   "metadata": {
    "slideshow": {
     "slide_type": "slide"
    }
   },
   "source": [
    "***\n",
    "\n",
    "## SettingWithCopyWarning\n",
    "\n",
    "... and how to debug"
   ]
  },
  {
   "cell_type": "code",
   "execution_count": null,
   "id": "05516e06",
   "metadata": {
    "slideshow": {
     "slide_type": "slide"
    }
   },
   "outputs": [],
   "source": [
    "# let's add a column, \"lifeboat\"...\n",
    "df[\"lifeboat\"] = None\n",
    "# and let's assume all kids were taken to a lifeboat:\n",
    "df[df[\"Age\"]<18] # for these rows, we want lifeboat=True\n",
    "df[df[\"Age\"]<18][\"lifeboat\"] # so we need to set all these values to True\n",
    "df[df[\"Age\"]<18][\"lifeboat\"] = True\n",
    "df.head(20) # why didn't it work?"
   ]
  },
  {
   "cell_type": "markdown",
   "id": "6d5a439d",
   "metadata": {
    "slideshow": {
     "slide_type": "slide"
    }
   },
   "source": [
    "# Try it out yourself!\n",
    "\n",
    "This line of code \n",
    "\n",
    "```python\n",
    "df[df[\"Age\"]<18][\"lifeboat\"] = True\n",
    "```\n",
    "\n",
    "raised this error message:\n",
    "```\n",
    "/var/folders/66/3jkth_7d5gggg6pyr8yywwt40000gn/T/ipykernel_93168/2070943703.py:6: SettingWithCopyWarning: \n",
    "A value is trying to be set on a copy of a slice from a DataFrame.\n",
    "Try using .loc[row_indexer,col_indexer] = value instead\n",
    "\n",
    "See the caveats in the documentation: https://pandas.pydata.org/pandas-docs/stable/user_guide/indexing.html#returning-a-view-versus-a-copy\n",
    "  df[df[\"Age\"]<18][\"lifeboat\"] = True\n",
    "```\n",
    "\n",
    "Use the documentation (link in error message!) & google/StackOverflow to figure out how to *correct* the line of code."
   ]
  },
  {
   "cell_type": "code",
   "execution_count": null,
   "id": "b6a3903b",
   "metadata": {
    "slideshow": {
     "slide_type": "slide"
    }
   },
   "outputs": [],
   "source": [
    "# YOUR DEBUGGED CODE HERE"
   ]
  },
  {
   "cell_type": "markdown",
   "id": "b4b8016d",
   "metadata": {
    "slideshow": {
     "slide_type": "slide"
    }
   },
   "source": [
    "***\n",
    "\n",
    "## GROUPING 😱\n"
   ]
  },
  {
   "cell_type": "code",
   "execution_count": null,
   "id": "274e8695",
   "metadata": {
    "slideshow": {
     "slide_type": "slide"
    }
   },
   "outputs": [],
   "source": [
    "grouping = df.groupby(\"Sex\")\n",
    "grouping"
   ]
  },
  {
   "cell_type": "code",
   "execution_count": null,
   "id": "5f13602a",
   "metadata": {
    "slideshow": {
     "slide_type": "slide"
    }
   },
   "outputs": [],
   "source": [
    "for group in grouping:\n",
    "    print(group)\n",
    "    #print(len(group))\n",
    "    #print(type(group))"
   ]
  },
  {
   "cell_type": "code",
   "execution_count": null,
   "id": "726de77e",
   "metadata": {
    "slideshow": {
     "slide_type": "slide"
    }
   },
   "outputs": [],
   "source": [
    "for a, b in grouping:\n",
    "    print(a)"
   ]
  },
  {
   "cell_type": "code",
   "execution_count": null,
   "id": "78c82996",
   "metadata": {
    "slideshow": {
     "slide_type": "slide"
    }
   },
   "outputs": [],
   "source": [
    "for a, b in grouping:\n",
    "    print(b)"
   ]
  },
  {
   "cell_type": "code",
   "execution_count": null,
   "id": "af0949f6",
   "metadata": {
    "slideshow": {
     "slide_type": "slide"
    }
   },
   "outputs": [],
   "source": [
    "group_list = []\n",
    "for a, b in grouping:\n",
    "    group_list.append(b)\n",
    "group_list[0]\n",
    "group_list[1]"
   ]
  },
  {
   "cell_type": "code",
   "execution_count": null,
   "id": "eea60ce9",
   "metadata": {
    "slideshow": {
     "slide_type": "slide"
    }
   },
   "outputs": [],
   "source": [
    "grouping[\"Age\"].mean()"
   ]
  },
  {
   "cell_type": "code",
   "execution_count": null,
   "id": "d099d70d",
   "metadata": {
    "slideshow": {
     "slide_type": "slide"
    }
   },
   "outputs": [],
   "source": [
    "grouping[\"Fare\"].mean()"
   ]
  },
  {
   "cell_type": "code",
   "execution_count": null,
   "id": "3935df0f",
   "metadata": {
    "slideshow": {
     "slide_type": "slide"
    }
   },
   "outputs": [],
   "source": [
    "grouping.Age.max()"
   ]
  },
  {
   "cell_type": "markdown",
   "id": "8a4d8382",
   "metadata": {
    "slideshow": {
     "slide_type": "slide"
    }
   },
   "source": [
    "# Try it out yourself!\n",
    "\n",
    "Use `.groupby()` to compute the mean ages of Survived vs. not-Survived passengers.\n",
    "\n",
    "There are many ways to solve this, but you could do it with one single line of code!"
   ]
  },
  {
   "cell_type": "code",
   "execution_count": 23,
   "id": "49521182",
   "metadata": {
    "slideshow": {
     "slide_type": "slide"
    }
   },
   "outputs": [
    {
     "data": {
      "application/vnd.microsoft.datawrangler.viewer.v0+json": {
       "columns": [
        {
         "name": "Survived",
         "rawType": "int64",
         "type": "integer"
        },
        {
         "name": "Age",
         "rawType": "float64",
         "type": "float"
        }
       ],
       "ref": "520e62c5-6421-40fe-9b40-3d4363f7f9b0",
       "rows": [
        [
         "0",
         "30.62617924528302"
        ],
        [
         "1",
         "28.343689655172415"
        ]
       ],
       "shape": {
        "columns": 1,
        "rows": 2
       }
      },
      "text/plain": [
       "Survived\n",
       "0    30.626179\n",
       "1    28.343690\n",
       "Name: Age, dtype: float64"
      ]
     },
     "execution_count": 23,
     "metadata": {},
     "output_type": "execute_result"
    }
   ],
   "source": [
    "# YOUR CODE HERE\n",
    "\n",
    "grouping = df.groupby(\"Survived\")[\"Age\"].mean()\n",
    "grouping "
   ]
  },
  {
   "cell_type": "markdown",
   "id": "609ca172",
   "metadata": {
    "slideshow": {
     "slide_type": "slide"
    }
   },
   "source": [
    "***\n",
    "\n",
    "# Binary search...\n",
    "\n",
    "(PDF slides & `.py` file shown in class)"
   ]
  }
 ],
 "metadata": {
  "celltoolbar": "Slideshow",
  "kernelspec": {
   "display_name": "base",
   "language": "python",
   "name": "python3"
  },
  "language_info": {
   "codemirror_mode": {
    "name": "ipython",
    "version": 3
   },
   "file_extension": ".py",
   "mimetype": "text/x-python",
   "name": "python",
   "nbconvert_exporter": "python",
   "pygments_lexer": "ipython3",
   "version": "3.13.5"
  }
 },
 "nbformat": 4,
 "nbformat_minor": 5
}
